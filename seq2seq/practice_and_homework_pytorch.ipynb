{
 "cells": [
  {
   "cell_type": "markdown",
   "metadata": {
    "colab_type": "text",
    "id": "HmsFABwClrsS"
   },
   "source": [
    "\n",
    "![img](https://esciencegroup.files.wordpress.com/2016/03/seq2seq.jpg)\n",
    "\n",
    "\n"
   ]
  },
  {
   "cell_type": "code",
   "execution_count": 1,
   "metadata": {
    "colab": {},
    "colab_type": "code",
    "id": "CfvojjHQlrsU"
   },
   "outputs": [
    {
     "name": "stdout",
     "output_type": "stream",
     "text": [
      "--2021-11-20 14:10:32--  https://www.dropbox.com/s/yy2zqh34dyhv07i/data.txt?dl=1\n",
      "Resolving www.dropbox.com... 162.125.70.18, 2620:100:6022:18::a27d:4212\n",
      "Connecting to www.dropbox.com|162.125.70.18|:443... connected.\n",
      "HTTP request sent, awaiting response... 301 Moved Permanently\n",
      "Location: /s/dl/yy2zqh34dyhv07i/data.txt [following]\n",
      "--2021-11-20 14:10:33--  https://www.dropbox.com/s/dl/yy2zqh34dyhv07i/data.txt\n",
      "Reusing existing connection to www.dropbox.com:443.\n",
      "HTTP request sent, awaiting response... 302 Found\n",
      "Location: https://ucccd76215c759abbcb087063a94.dl.dropboxusercontent.com/cd/0/get/BaVKe9xH6C-4Ryc-EUeLCPxwqPkLUUuy_Z8Iy6fdYC98dD4iW83IRWrxQ3yGvFsnBstq1Wo-nFiGPakWFGv3xkRon2QXMLpI-KjkLpiDVZk2FYJs8OmZMriZNl3Ic-PIIAQTriP2Z_NiUkzWeTVtdUqQ/file?dl=1# [following]\n",
      "--2021-11-20 14:10:33--  https://ucccd76215c759abbcb087063a94.dl.dropboxusercontent.com/cd/0/get/BaVKe9xH6C-4Ryc-EUeLCPxwqPkLUUuy_Z8Iy6fdYC98dD4iW83IRWrxQ3yGvFsnBstq1Wo-nFiGPakWFGv3xkRon2QXMLpI-KjkLpiDVZk2FYJs8OmZMriZNl3Ic-PIIAQTriP2Z_NiUkzWeTVtdUqQ/file?dl=1\n",
      "Resolving ucccd76215c759abbcb087063a94.dl.dropboxusercontent.com... 162.125.70.15, 2620:100:6026:15::a27d:460f\n",
      "Connecting to ucccd76215c759abbcb087063a94.dl.dropboxusercontent.com|162.125.70.15|:443... connected.\n",
      "HTTP request sent, awaiting response... 200 OK\n",
      "Length: 12905335 (12M) [application/binary]\n",
      "Saving to: ‘data.txt’\n",
      "\n",
      "data.txt            100%[===================>]  12,31M  6,34MB/s    in 1,9s    \n",
      "\n",
      "2021-11-20 14:10:36 (6,34 MB/s) - ‘data.txt’ saved [12905335/12905335]\n",
      "\n",
      "--2021-11-20 14:10:36--  https://raw.githubusercontent.com/yandexdataschool/nlp_course/2020/week04_seq2seq/vocab.py\n",
      "Resolving raw.githubusercontent.com... 185.199.111.133, 185.199.110.133, 185.199.109.133, ...\n",
      "Connecting to raw.githubusercontent.com|185.199.111.133|:443... connected.\n",
      "HTTP request sent, awaiting response... 200 OK\n",
      "Length: 2879 (2,8K) [text/plain]\n",
      "Saving to: ‘vocab.py’\n",
      "\n",
      "vocab.py            100%[===================>]   2,81K  --.-KB/s    in 0s      \n",
      "\n",
      "2021-11-20 14:10:36 (20,2 MB/s) - ‘vocab.py’ saved [2879/2879]\n",
      "\n"
     ]
    }
   ],
   "source": [
    "# !pip3 install torch>=1.3.0\n",
    "# !pip3 install subword-nmt &> log\n",
    "!wget https://www.dropbox.com/s/yy2zqh34dyhv07i/data.txt?dl=1 -O data.txt\n",
    "!wget https://raw.githubusercontent.com/yandexdataschool/nlp_course/2020/week04_seq2seq/vocab.py -O vocab.py\n",
    "# thanks to tilda and deephack teams for the data, Dmitry Emelyanenko for the code :)"
   ]
  },
  {
   "cell_type": "code",
   "execution_count": 3,
   "metadata": {},
   "outputs": [
    {
     "name": "stdout",
     "output_type": "stream",
     "text": [
      "Collecting subword-nmt\n",
      "  Downloading subword_nmt-0.3.7-py2.py3-none-any.whl (26 kB)\n",
      "Installing collected packages: subword-nmt\n",
      "Successfully installed subword-nmt-0.3.7\n"
     ]
    }
   ],
   "source": [
    "# !pip install subword-nmt"
   ]
  },
  {
   "cell_type": "code",
   "execution_count": 11,
   "metadata": {
    "colab": {},
    "colab_type": "code",
    "id": "g9kP0SdxlrsY"
   },
   "outputs": [],
   "source": [
    "from nltk.tokenize import WordPunctTokenizer\n",
    "from subword_nmt.learn_bpe import learn_bpe\n",
    "from subword_nmt.apply_bpe import BPE\n",
    "tokenizer = WordPunctTokenizer()\n",
    "def tokenize(x):\n",
    "    return ' '.join(tokenizer.tokenize(x.lower()))\n",
    "\n",
    "# split and tokenize the data\n",
    "with open('train.en', 'w') as f_src,  open('train.ru', 'w') as f_dst:\n",
    "    for line in open('data.txt'):\n",
    "        src_line, dst_line = line.strip().split('\\t')\n",
    "        f_src.write(tokenize(src_line) + '\\n')\n",
    "        f_dst.write(tokenize(dst_line) + '\\n')\n",
    "\n",
    "# build and apply bpe vocs\n",
    "bpe = {}\n",
    "for lang in ['en', 'ru']:\n",
    "    learn_bpe(open('./train.' + lang), open('bpe_rules.' + lang, 'w'), num_symbols=8000)\n",
    "    bpe[lang] = BPE(open('./bpe_rules.' + lang))\n",
    "    \n",
    "    with open('train.bpe.' + lang, 'w') as f_out:\n",
    "        for line in open('train.' + lang):\n",
    "            f_out.write(bpe[lang].process_line(line.strip()) + '\\n')"
   ]
  },
  {
   "cell_type": "code",
   "execution_count": 12,
   "metadata": {
    "colab": {},
    "colab_type": "code",
    "id": "CmTy_m_olrsb"
   },
   "outputs": [],
   "source": [
    "import numpy as np\n",
    "import matplotlib.pyplot as plt\n",
    "%matplotlib inline"
   ]
  },
  {
   "cell_type": "code",
   "execution_count": 13,
   "metadata": {
    "colab": {},
    "colab_type": "code",
    "id": "8PskgBSxlrsd"
   },
   "outputs": [
    {
     "name": "stdout",
     "output_type": "stream",
     "text": [
      "inp: на территории обустроена бесплатная частная парковка .\n",
      "out: free private parking is available on site .\n",
      "\n",
      "inp: кроме того , в 5 минутах ходьбы работают многочисленные бары и рестораны .\n",
      "out: guests can find many bars and restaurants within a 5 - minute walk .\n",
      "\n",
      "inp: отель san mi@@ gu@@ el расположен в центре мор@@ ели@@ и , в 750 метрах от главной площади города и кафедрального собора .\n",
      "out: hotel san miguel is located in central more@@ lia , 750 metres from the city ’ s main square and cathedral .\n",
      "\n"
     ]
    }
   ],
   "source": [
    "data_inp = np.array(open('./train.bpe.ru').read().split('\\n'))\n",
    "data_out = np.array(open('./train.bpe.en').read().split('\\n'))\n",
    "\n",
    "from sklearn.model_selection import train_test_split\n",
    "train_inp, dev_inp, train_out, dev_out = train_test_split(data_inp, data_out, test_size=3000,\n",
    "                                                          random_state=42)\n",
    "for i in range(3):\n",
    "    print('inp:', train_inp[i])\n",
    "    print('out:', train_out[i], end='\\n\\n')"
   ]
  },
  {
   "cell_type": "code",
   "execution_count": 14,
   "metadata": {
    "colab": {},
    "colab_type": "code",
    "id": "vipg4O61lrsg"
   },
   "outputs": [],
   "source": [
    "from vocab import Vocab\n",
    "inp_voc = Vocab.from_lines(train_inp)\n",
    "out_voc = Vocab.from_lines(train_out)"
   ]
  },
  {
   "cell_type": "code",
   "execution_count": 15,
   "metadata": {
    "colab": {},
    "colab_type": "code",
    "id": "cwOoHfuhlrsi"
   },
   "outputs": [
    {
     "name": "stdout",
     "output_type": "stream",
     "text": [
      "lines\n",
      "['гостевой дом r .', 'до афин — 20 км .', 'работает боулинг .', 'оборудован балкон .', 'подключен wi - fi .']\n",
      "\n",
      "words to ids (0 = bos, 1 = eos):\n",
      "tensor([[   0, 2688, 2943, 1108,   29,    1,    1,    1],\n",
      "        [   0, 2922, 1834, 8035,   59, 3800,   29,    1],\n",
      "        [   0, 6030, 2083,   29,    1,    1,    1,    1],\n",
      "        [   0, 4927, 1870,   29,    1,    1,    1,    1],\n",
      "        [   0, 5549, 1453,   27,  592,   29,    1,    1]])\n",
      "\n",
      "back to words\n",
      "['гостевой дом r .', 'до афин — 20 км .', 'работает боулинг .', 'оборудован балкон .', 'подключен wi - fi .']\n"
     ]
    }
   ],
   "source": [
    "# Here's how you cast lines into ids and backwards.\n",
    "batch_lines = sorted(train_inp, key=len)[5:10]\n",
    "batch_ids = inp_voc.to_matrix(batch_lines)\n",
    "batch_lines_restored = inp_voc.to_lines(batch_ids)\n",
    "\n",
    "print(\"lines\")\n",
    "print(batch_lines)\n",
    "print(\"\\nwords to ids (0 = bos, 1 = eos):\")\n",
    "print(batch_ids)\n",
    "print(\"\\nback to words\")\n",
    "print(batch_lines_restored)"
   ]
  },
  {
   "cell_type": "markdown",
   "metadata": {
    "colab_type": "text",
    "id": "gSYu-MkElrsk"
   },
   "source": [
    "Draw source and translation length distributions to estimate the scope of the task."
   ]
  },
  {
   "cell_type": "code",
   "execution_count": 16,
   "metadata": {
    "colab": {},
    "colab_type": "code",
    "id": "TLLl9cSNlrsl"
   },
   "outputs": [
    {
     "data": {
      "image/png": "[encoded data removed]",
      "text/plain": [
       "<Figure size 576x288 with 2 Axes>"
      ]
     },
     "metadata": {
      "needs_background": "light"
     },
     "output_type": "display_data"
    }
   ],
   "source": [
    "plt.figure(figsize=[8, 4])\n",
    "plt.subplot(1, 2, 1)\n",
    "plt.title(\"source length\")\n",
    "plt.hist(list(map(len, map(str.split, train_inp))), bins=20);\n",
    "\n",
    "plt.subplot(1, 2, 2)\n",
    "plt.title(\"translation length\")\n",
    "plt.hist(list(map(len, map(str.split, train_out))), bins=20);"
   ]
  },
  {
   "cell_type": "code",
   "execution_count": 18,
   "metadata": {
    "colab": {},
    "colab_type": "code",
    "id": "pd_rDRm9lrso"
   },
   "outputs": [],
   "source": [
    "import torch\n",
    "import torch.nn as nn\n",
    "import torch.nn.functional as F\n",
    "device = 'cuda' if torch.cuda.is_available() else 'cpu'"
   ]
  },
  {
   "cell_type": "code",
   "execution_count": 19,
   "metadata": {},
   "outputs": [],
   "source": [
    "dummy_inp_tokens = inp_voc.to_matrix(sorted(train_inp, key=len)[5:10]).to(device)\n",
    "dummy_out_tokens = out_voc.to_matrix(sorted(train_out, key=len)[5:10]).to(device)"
   ]
  },
  {
   "cell_type": "code",
   "execution_count": 20,
   "metadata": {},
   "outputs": [
    {
     "data": {
      "text/plain": [
       "tensor([[   0, 2688, 2943, 1108,   29,    1,    1,    1],\n",
       "        [   0, 2922, 1834, 8035,   59, 3800,   29,    1],\n",
       "        [   0, 6030, 2083,   29,    1,    1,    1,    1],\n",
       "        [   0, 4927, 1870,   29,    1,    1,    1,    1],\n",
       "        [   0, 5549, 1453,   27,  592,   29,    1,    1]])"
      ]
     },
     "execution_count": 20,
     "metadata": {},
     "output_type": "execute_result"
    }
   ],
   "source": [
    "dummy_inp_tokens"
   ]
  },
  {
   "cell_type": "code",
   "execution_count": 21,
   "metadata": {},
   "outputs": [
    {
     "data": {
      "text/plain": [
       "tensor([[ True,  True,  True,  True,  True,  True, False, False],\n",
       "        [ True,  True,  True,  True,  True,  True,  True,  True],\n",
       "        [ True,  True,  True,  True,  True, False, False, False],\n",
       "        [ True,  True,  True,  True,  True, False, False, False],\n",
       "        [ True,  True,  True,  True,  True,  True,  True, False]])"
      ]
     },
     "execution_count": 21,
     "metadata": {},
     "output_type": "execute_result"
    }
   ],
   "source": [
    "inp_voc.compute_mask(dummy_inp_tokens)"
   ]
  },
  {
   "cell_type": "code",
   "execution_count": 22,
   "metadata": {},
   "outputs": [
    {
     "data": {
      "text/plain": [
       "tensor([[   0, 6592, 3191, 6214,   23,    1,    1],\n",
       "        [   0, 7323, 3434, 2667,   23,    1,    1],\n",
       "        [   0, 2145, 3049,  190, 6858,   23,    1],\n",
       "        [   0, 4890, 3434, 2667,   23,    1,    1],\n",
       "        [   0, 4890, 3434, 2667,   23,    1,    1]])"
      ]
     },
     "execution_count": 22,
     "metadata": {},
     "output_type": "execute_result"
    }
   ],
   "source": [
    "dummy_out_tokens"
   ]
  },
  {
   "cell_type": "code",
   "execution_count": 23,
   "metadata": {
    "colab": {},
    "colab_type": "code",
    "id": "wgfN5-F7lrst"
   },
   "outputs": [],
   "source": [
    "class BasicModel(nn.Module):\n",
    "    def __init__(self, inp_voc, out_voc, emb_size=64, hid_size=128):\n",
    "        \"\"\"\n",
    "        A simple encoder-decoder seq2seq model\n",
    "        \"\"\"\n",
    "        super().__init__() # initialize base class to track sub-layers, parameters, etc.\n",
    "\n",
    "        self.inp_voc, self.out_voc = inp_voc, out_voc\n",
    "        self.hid_size = hid_size\n",
    "        \n",
    "        self.emb_inp = nn.Embedding(len(inp_voc), emb_size)\n",
    "        self.emb_out = nn.Embedding(len(out_voc), emb_size)\n",
    "        self.enc0 = nn.GRU(emb_size, hid_size, batch_first=True)\n",
    "\n",
    "        self.dec_start = nn.Linear(hid_size, hid_size)\n",
    "        self.dec0 = nn.GRUCell(emb_size, hid_size)\n",
    "        self.logits = nn.Linear(hid_size, len(out_voc))\n",
    "        \n",
    "    def forward(self, inp, out):\n",
    "        \"\"\" Apply model in training mode \"\"\"\n",
    "        initial_state = self.encode(inp)\n",
    "        return self.decode(initial_state, out)\n",
    "\n",
    "\n",
    "    def encode(self, inp, **flags):\n",
    "        \"\"\"\n",
    "        Takes symbolic input sequence, computes initial state\n",
    "        :param inp: matrix of input tokens [batch, time]\n",
    "        :returns: initial decoder state tensors, one or many\n",
    "        \"\"\"\n",
    "        inp_emb = self.emb_inp(inp)\n",
    "        batch_size = inp.shape[0]\n",
    "        \n",
    "        enc_seq, [last_state_but_not_really] = self.enc0(inp_emb)\n",
    "        # enc_seq: [batch, time, hid_size], last_state: [batch, hid_size]\n",
    "        \n",
    "        # note: last_state is not _actually_ last because of padding, let's find the real last_state\n",
    "        lengths = (inp != self.inp_voc.eos_ix).to(torch.int64).sum(dim=1).clamp_max(inp.shape[1] - 1)\n",
    "        last_state = enc_seq[torch.arange(len(enc_seq)), lengths]\n",
    "#         ^-- shape: [batch_size, hid_size]\n",
    "        \n",
    "        dec_start = self.dec_start(last_state)\n",
    "        return [dec_start]\n",
    "\n",
    "    def decode_step(self, prev_state, prev_tokens, **flags):\n",
    "        \"\"\"\n",
    "        Takes previous decoder state and tokens, returns new state and logits for next tokens\n",
    "        :param prev_state: a list of previous decoder state tensors, same as returned by encode(...)\n",
    "        :param prev_tokens: previous output tokens, an int vector of [batch_size]\n",
    "        :return: a list of next decoder state tensors, a tensor of logits [batch, len(out_voc)]\n",
    "        \"\"\"\n",
    "        prev_gru0_state = prev_state[0]\n",
    "        \n",
    "        new_gru0_state = self.dec0(self.emb_out(prev_tokens), prev_gru0_state)\n",
    "        new_dec_state = [new_gru0_state]\n",
    "        output_logits = self.logits(new_gru0_state)\n",
    "        return new_dec_state, output_logits\n",
    "\n",
    "    def decode(self, initial_state, out_tokens, **flags):\n",
    "        \"\"\" Iterate over reference tokens (out_tokens) with decode_step \"\"\"\n",
    "        batch_size = out_tokens.shape[0]\n",
    "        state = initial_state\n",
    "        \n",
    "        # initial logits: always predict BOS\n",
    "        onehot_bos = F.one_hot(torch.full([batch_size], self.out_voc.bos_ix, dtype=torch.int64),\n",
    "                               num_classes=len(self.out_voc)).to(device=out_tokens.device)\n",
    "        first_logits = torch.log(onehot_bos.to(torch.float32) + 1e-9)\n",
    "        logits_sequence = [first_logits]\n",
    "        for i in range(out_tokens.shape[1] - 1):\n",
    "            state, logits = self.decode_step(state, out_tokens[:, i])\n",
    "            logits_sequence.append(logits)\n",
    "        return torch.stack(logits_sequence, dim=1)\n",
    "\n",
    "    def decode_inference(self, initial_state, max_len=100, **flags):\n",
    "        \"\"\" Generate translations from model (greedy version) \"\"\"\n",
    "        batch_size, device = len(initial_state[0]), initial_state[0].device\n",
    "        state = initial_state\n",
    "        outputs = [torch.full([batch_size], self.out_voc.bos_ix, dtype=torch.int64, \n",
    "                              device=device)]\n",
    "        all_states = [initial_state]\n",
    "\n",
    "        for i in range(max_len):\n",
    "            state, logits = self.decode_step(state, outputs[-1])\n",
    "            outputs.append(logits.argmax(dim=-1))\n",
    "            all_states.append(state)\n",
    "        \n",
    "        return torch.stack(outputs, dim=1), all_states\n",
    "\n",
    "    def translate_lines(self, inp_lines, **kwargs):\n",
    "        inp = inp_voc.to_matrix(inp_lines).to(device)\n",
    "        initial_state = self.encode(inp)\n",
    "        out_ids, states = self.decode_inference(initial_state, **kwargs)\n",
    "        return out_voc.to_lines(out_ids.cpu().numpy()), states\n"
   ]
  },
  {
   "cell_type": "code",
   "execution_count": 24,
   "metadata": {},
   "outputs": [],
   "source": [
    "# debugging area\n",
    "model = BasicModel(inp_voc, out_voc).to(device)\n",
    "\n",
    "dummy_inp_tokens = inp_voc.to_matrix(sorted(train_inp, key=len)[5:10]).to(device)\n",
    "dummy_out_tokens = out_voc.to_matrix(sorted(train_out, key=len)[5:10]).to(device)\n",
    "\n",
    "h0 = model.encode(dummy_inp_tokens)\n",
    "h1, logits1 = model.decode_step(h0, torch.arange(len(dummy_inp_tokens), device=device))\n"
   ]
  },
  {
   "cell_type": "code",
   "execution_count": 25,
   "metadata": {},
   "outputs": [],
   "source": [
    "# debugging area\n",
    "model = BasicModel(inp_voc, out_voc).to(device)\n",
    "\n",
    "dummy_inp_tokens = inp_voc.to_matrix(sorted(train_inp, key=len)[5:10]).to(device)\n",
    "dummy_out_tokens = out_voc.to_matrix(sorted(train_out, key=len)[5:10]).to(device)\n",
    "\n",
    "h0 = model.encode(dummy_inp_tokens)\n",
    "h1, logits1 = model.decode_step(h0, torch.arange(len(dummy_inp_tokens), device=device))\n",
    "\n",
    "assert isinstance(h1, list) and len(h1) == len(h0)\n",
    "assert h1[0].shape == h0[0].shape and not torch.allclose(h1[0], h0[0])\n",
    "assert logits1.shape == (len(dummy_inp_tokens), len(out_voc))\n",
    "\n",
    "logits_seq = model.decode(h0, dummy_out_tokens)\n",
    "assert logits_seq.shape == (dummy_out_tokens.shape[0], dummy_out_tokens.shape[1], len(out_voc))\n",
    "\n",
    "# full forward\n",
    "logits_seq2 = model(dummy_inp_tokens, dummy_out_tokens)\n",
    "assert logits_seq2.shape == logits_seq.shape"
   ]
  },
  {
   "cell_type": "code",
   "execution_count": 26,
   "metadata": {},
   "outputs": [
    {
     "name": "stdout",
     "output_type": "stream",
     "text": [
      "Translations without training:\n",
      "agrit@@ toulouse rafa@@ tte screens air@@ fair@@ discounted experience ua pattaya kilometres towers org@@ org@@ designated iv@@ pont pont setting life life pierre designated acy\n",
      "agrit@@ toulouse rafa@@ tte screens air@@ fair@@ discounted experience ua pattaya kilometres towers org@@ org@@ designated iv@@ pont pont setting life life pierre designated acy\n",
      "agrit@@ toulouse rafa@@ tte screens air@@ fair@@ discounted experience ua pattaya kilometres towers org@@ org@@ designated iv@@ pont pont setting life life pierre designated acy\n"
     ]
    }
   ],
   "source": [
    "dummy_translations, dummy_states = model.translate_lines(train_inp[:3], max_len=25)\n",
    "print(\"Translations without training:\")\n",
    "print('\\n'.join([line for line in dummy_translations]))"
   ]
  },
  {
   "cell_type": "code",
   "execution_count": 27,
   "metadata": {
    "colab": {},
    "colab_type": "code",
    "id": "c8XPV8sWlrs5",
    "scrolled": true
   },
   "outputs": [],
   "source": [
    "def compute_loss(model, inp, out, **flags):\n",
    "    \"\"\"\n",
    "    Compute loss (float32 scalar) as in the formula above\n",
    "    :param inp: input tokens matrix, int32[batch, time]\n",
    "    :param out: reference tokens matrix, int32[batch, time]\n",
    "    \n",
    "    In order to pass the tests, your function should\n",
    "    * include loss at first EOS but not the subsequent ones\n",
    "    * divide sum of losses by a sum of input lengths (use voc.compute_mask)\n",
    "    \"\"\"\n",
    "    mask = model.out_voc.compute_mask(out) # [batch_size, out_len]\n",
    "    targets_1hot = F.one_hot(out, len(model.out_voc)).to(torch.float32)\n",
    "    # outputs of the model, [batch_size, out_len, num_tokens]\n",
    "    logits_seq = model(inp, out)\n",
    "\n",
    "    # log-probabilities of all tokens at all steps, [batch_size, out_len, num_tokens]\n",
    "    logprobs_seq = torch.log_softmax(logits_seq, dim=-1)\n",
    "   \n",
    "    # log-probabilities of correct outputs, [batch_size, out_len]\n",
    "    logp_out = (logprobs_seq * targets_1hot).sum(dim=-1)\n",
    "    \n",
    "    # ^-- this will select the probability of the actual next token.\n",
    "    # Note: you can compute loss more efficiently using using F.cross_entropy\n",
    "\n",
    "    # average cross-entropy over tokens where mask == True\n",
    "    return -torch.masked_select(logp_out, mask).mean() # average loss, scalar"
   ]
  },
  {
   "cell_type": "code",
   "execution_count": 28,
   "metadata": {
    "colab": {},
    "colab_type": "code",
    "id": "ME_LWUeklrs7"
   },
   "outputs": [
    {
     "name": "stdout",
     "output_type": "stream",
     "text": [
      "Loss: tensor(7.4802, grad_fn=<NegBackward>)\n"
     ]
    }
   ],
   "source": [
    "dummy_loss = compute_loss(model, dummy_inp_tokens, dummy_out_tokens)\n",
    "print(\"Loss:\", dummy_loss)\n",
    "assert np.allclose(dummy_loss.item(), 7.5, rtol=0.1, atol=0.1), \"We're sorry for your loss\"\n",
    "\n",
    "# test autograd\n",
    "dummy_loss.backward()\n",
    "for name, param in model.named_parameters():\n",
    "    assert param.grad is not None and abs(param.grad.max()) != 0, f\"Param {name} received no gradients\""
   ]
  },
  {
   "cell_type": "markdown",
   "metadata": {
    "colab_type": "text",
    "id": "HpbaBpW7lrs-"
   },
   "source": [
    "### Evaluation: BLEU\n",
    "\n",
    "Machine translation is commonly evaluated with [BLEU](https://en.wikipedia.org/wiki/BLEU) score. This metric simply computes which fraction of predicted n-grams is actually present in the reference translation. It does so for n=1,2,3 and 4 and computes the geometric average with penalty if translation is shorter than reference.\n",
    "\n",
    "While BLEU [has many drawbacks](http://www.cs.jhu.edu/~ccb/publications/re-evaluating-the-role-of-bleu-in-mt-research.pdf), it still remains the most commonly used metric and one of the simplest to compute."
   ]
  },
  {
   "cell_type": "code",
   "execution_count": 29,
   "metadata": {
    "colab": {},
    "colab_type": "code",
    "id": "Gb1-PhKIlrs-"
   },
   "outputs": [],
   "source": [
    "from nltk.translate.bleu_score import corpus_bleu\n",
    "from copy import deepcopy\n",
    "def compute_bleu(model, inp_lines, out_lines, bpe_sep='@@ ', **flags):\n",
    "    \"\"\"\n",
    "    Estimates corpora-level BLEU score of model's translations given inp and reference out\n",
    "    Note: if you're serious about reporting your results, use https://pypi.org/project/sacrebleu\n",
    "    \"\"\"\n",
    "    it, batch_size = 0, 200\n",
    "    translations = []\n",
    "    while it < len(inp_lines):\n",
    "        batch_translations, _ = model.translate_lines(inp_lines[it:it + batch_size], **flags)\n",
    "        translations += batch_translations\n",
    "        it += batch_size\n",
    "        print(it, \"/\", len(inp_lines))\n",
    "    translations = [line.replace(bpe_sep, '') for line in translations] \n",
    "    return corpus_bleu(\n",
    "        [[ref.split()] for ref in out_lines],\n",
    "        [trans.split() for trans in translations],\n",
    "        smoothing_function=lambda precisions, **kw: [p + 1.0 / p.denominator for p in precisions]\n",
    "        ) * 100"
   ]
  },
  {
   "cell_type": "code",
   "execution_count": 30,
   "metadata": {
    "colab": {},
    "colab_type": "code",
    "id": "gZvfid1RlrtA"
   },
   "outputs": [
    {
     "name": "stdout",
     "output_type": "stream",
     "text": [
      "200 / 3000\n",
      "400 / 3000\n",
      "600 / 3000\n",
      "800 / 3000\n",
      "1000 / 3000\n",
      "1200 / 3000\n",
      "1400 / 3000\n",
      "1600 / 3000\n",
      "1800 / 3000\n",
      "2000 / 3000\n",
      "2200 / 3000\n",
      "2400 / 3000\n",
      "2600 / 3000\n",
      "2800 / 3000\n",
      "3000 / 3000\n"
     ]
    },
    {
     "data": {
      "text/plain": [
       "0.0019331059813242912"
      ]
     },
     "execution_count": 30,
     "metadata": {},
     "output_type": "execute_result"
    }
   ],
   "source": [
    "compute_bleu(model, dev_inp, dev_out)"
   ]
  },
  {
   "cell_type": "markdown",
   "metadata": {
    "colab_type": "text",
    "id": "nQDhGwg4lrtC"
   },
   "source": [
    "### Training loop\n",
    "\n",
    "Training encoder-decoder models isn't that different from any other models: sample batches, compute loss, backprop and update"
   ]
  },
  {
   "cell_type": "code",
   "execution_count": 31,
   "metadata": {
    "colab": {},
    "colab_type": "code",
    "id": "yfwIaixHlrtI",
    "scrolled": false
   },
   "outputs": [],
   "source": [
    "from IPython.display import clear_output\n",
    "from tqdm import tqdm, trange\n",
    "metrics = {'train_loss': [], 'dev_bleu': [] }\n",
    "\n",
    "model = BasicModel(inp_voc, out_voc).to(device)\n",
    "opt = torch.optim.Adam(model.parameters(), lr=1e-3)\n",
    "batch_size = 32"
   ]
  },
  {
   "cell_type": "code",
   "execution_count": 32,
   "metadata": {
    "colab": {},
    "colab_type": "code",
    "id": "LlDT6eDUlrtL",
    "scrolled": true
   },
   "outputs": [
    {
     "data": {
      "image/png": "[encoded data removed]",
      "text/plain": [
       "<Figure size 864x288 with 2 Axes>"
      ]
     },
     "metadata": {
      "needs_background": "light"
     },
     "output_type": "display_data"
    },
    {
     "name": "stdout",
     "output_type": "stream",
     "text": [
      "Mean loss=1.804\n"
     ]
    },
    {
     "name": "stderr",
     "output_type": "stream",
     "text": [
      "100%|██████████| 25000/25000 [1:28:19<00:00,  4.72it/s]\n"
     ]
    }
   ],
   "source": [
    "for _ in trange(25000):\n",
    "    step = len(metrics['train_loss']) + 1\n",
    "    batch_ix = np.random.randint(len(train_inp), size=batch_size)\n",
    "    batch_inp = inp_voc.to_matrix(train_inp[batch_ix]).to(device)\n",
    "    batch_out = out_voc.to_matrix(train_out[batch_ix]).to(device)\n",
    "    \n",
    "    opt.zero_grad()\n",
    "    loss_t = compute_loss(model, batch_inp, batch_out)\n",
    "    loss_t.backward()\n",
    "    opt.step()\n",
    "    \n",
    "    \n",
    "    metrics['train_loss'].append((step, loss_t.item()))\n",
    "    \n",
    "    if step % 100 == 0:\n",
    "        metrics['dev_bleu'].append((step, compute_bleu(model, dev_inp, dev_out)))\n",
    "        \n",
    "        clear_output(True)\n",
    "        plt.figure(figsize=(12,4))\n",
    "        for i, (name, history) in enumerate(sorted(metrics.items())):\n",
    "            plt.subplot(1, len(metrics), i + 1)\n",
    "            plt.title(name)\n",
    "            plt.plot(*zip(*history))\n",
    "            plt.grid()\n",
    "        plt.show()\n",
    "        print(\"Mean loss=%.3f\" % np.mean(metrics['train_loss'][-10:], axis=0)[1], flush=True)\n",
    "        \n",
    "# Note: it's okay if bleu oscillates up and down as long as it gets better on average over long term (e.g. 5k batches)"
   ]
  },
  {
   "cell_type": "code",
   "execution_count": 33,
   "metadata": {
    "colab": {},
    "colab_type": "code",
    "id": "2ahuhKVhlrtP"
   },
   "outputs": [
    {
     "data": {
      "text/plain": [
       "16.42384403039198"
      ]
     },
     "execution_count": 33,
     "metadata": {},
     "output_type": "execute_result"
    }
   ],
   "source": [
    "np.mean(metrics['dev_bleu'][-10:], axis=0)[1]"
   ]
  },
  {
   "cell_type": "code",
   "execution_count": 34,
   "metadata": {
    "colab": {},
    "colab_type": "code",
    "id": "KyaHOpealrtS"
   },
   "outputs": [
    {
     "name": "stdout",
     "output_type": "stream",
     "text": [
      "в распоряжении гостей общая кухня и общая гостиная .\n",
      "you will find a shared kitchen and a shared kitchen at the property .\n",
      "\n",
      "кроме того , предоставляется прокат велосипедов , услуги трансфера и бесплатная парковка .\n",
      "the property offers free parking , and a shuttle service to the airport shuttle service for guests to drive to the airport .\n",
      "\n",
      "расстояние до города ки@@ сси@@ м@@ ми составляет 26 км .\n",
      "latina is 26 km away while the city of thessaloniki is 26 km away .\n",
      "\n",
      "апартаменты в пент@@ хаусе с общим открытым бассейном , садом , кондиционером и террасой для загара расположены в 5 минутах ходьбы от пляжа на курорте ка@@ бо - рой .\n",
      "located in a garden , villa kal@@ is a 5 - minute walk from the beach , apartment on a sun terrace and offers self - catering accommodation .\n",
      "\n",
      "апартаменты mo@@ s@@ co@@ w point - loft red square находятся в москве , в 200 метрах от большого театра .\n",
      "an@@ an@@ i@@ ón square is 200 metres from the studio in yaroslav@@ skaya , while the trevi fountain is 700 metres from the property .\n",
      "\n",
      "в вашем распоряжении собственная ванная комната с душем и полотенцами .\n",
      "featuring a shower , private bathrooms also come with towels .\n",
      "\n"
     ]
    }
   ],
   "source": [
    "for inp_line, trans_line in zip(dev_inp[::500], model.translate_lines(dev_inp[::500])[0]):\n",
    "    print(inp_line)\n",
    "    print(trans_line)\n",
    "    print()"
   ]
  },
  {
   "cell_type": "markdown",
   "metadata": {
    "colab_type": "text",
    "id": "Tv0s8qxOXp5y"
   },
   "source": [
    "# Homework code templates will appear here soon!"
   ]
  },
  {
   "cell_type": "markdown",
   "metadata": {
    "colab_type": "text",
    "id": "Qz9aROAIlrtX"
   },
   "source": [
    "### Attention layer \n",
    "\n",
    "Here you will have to implement a layer that computes a simple additive attention:\n",
    "\n",
    "Given encoder sequence $ h^e_0, h^e_1, h^e_2, ..., h^e_T$ and a single decoder state $h^d$,\n",
    "\n",
    "* Compute logits with a 2-layer neural network\n",
    "$$a_t = linear_{out}(tanh(linear_{e}(h^e_t) + linear_{d}(h_d)))$$\n",
    "* Get probabilities from logits, \n",
    "$$ p_t = {{e ^ {a_t}} \\over { \\sum_\\tau e^{a_\\tau} }} $$\n",
    "\n",
    "* Add up encoder states with probabilities to get __attention response__\n",
    "$$ attn = \\sum_t p_t \\cdot h^e_t $$\n",
    "\n",
    " [from this post](https://distill.pub/2016/augmented-rnns/)."
   ]
  },
  {
   "cell_type": "code",
   "execution_count": 43,
   "metadata": {},
   "outputs": [],
   "source": [
    "from torch.nn.utils.rnn import pad_sequence\n",
    "class AttentionLayer(nn.Module):\n",
    "    def __init__(self, name, enc_size, dec_size, hid_size, activ=torch.tanh):\n",
    "        \"\"\" A layer that computes additive attention response and weights \"\"\"\n",
    "        super().__init__()\n",
    "        self.name = name\n",
    "        self.enc_size = enc_size # num units in encoder state\n",
    "        self.dec_size = dec_size # num units in decoder state\n",
    "        self.hid_size = hid_size # attention layer hidden units\n",
    "        self.activ = activ       # attention layer hidden nonlinearity\n",
    "        \n",
    "        self.linear_enc = nn.Linear(enc_size, hid_size)\n",
    "        self.linear_dec = nn.Linear(dec_size, hid_size)\n",
    "        self.linear_out = nn.Linear(hid_size, 1)\n",
    "        self.inf = nn.Parameter(torch.tensor(-1e9), requires_grad=False)\n",
    "\n",
    "    def forward(self, enc, dec, inp_mask):\n",
    "        \"\"\"\n",
    "        Computes attention response and weights\n",
    "        :param enc: encoder activation sequence, float32[batch_size, ninp, enc_size]\n",
    "        :param dec: single decoder state used as \"query\", float32[batch_size, dec_size]\n",
    "        :param inp_mask: mask on enc activatons (0 after first eos), float32 [batch_size, ninp]\n",
    "        :returns: attn[batch_size, enc_size], probs[batch_size, ninp]\n",
    "            - attn - attention response vector (weighted sum of enc)\n",
    "            - probs - attention weights after softmax\n",
    "        \"\"\"\n",
    "\n",
    "        \n",
    "        logits = self.linear_out(self.activ((self.linear_enc(enc) + self.linear_dec(dec).unsqueeze(1)))).squeeze(2)[:,:enc.shape[1]]\n",
    "        \n",
    "        \n",
    "        logits = torch.where(inp_mask.byte(), logits.float(), self.inf)\n",
    "\n",
    "    \n",
    "        probs = torch.softmax(logits, -1) # [batch_size, ninp]\n",
    "        \n",
    "        attn = (enc * probs.unsqueeze(2)).sum(dim=1)\n",
    "        return attn, probs"
   ]
  },
  {
   "cell_type": "markdown",
   "metadata": {
    "colab_type": "text",
    "id": "IalfpdAelrtb"
   },
   "source": [
    "### Seq2seq model with attention\n",
    "\n",
    "\n",
    "![img](https://i.imgur.com/6fKHlHb.png)\n",
    "\n",
    "\n",
    "\n"
   ]
  },
  {
   "cell_type": "code",
   "execution_count": 44,
   "metadata": {
    "colab": {},
    "colab_type": "code",
    "id": "NCKPB5JmcE6j"
   },
   "outputs": [],
   "source": [
    "class AttentiveModel(BasicModel):\n",
    "    def __init__(self, name, inp_voc, out_voc,\n",
    "                 emb_size=64, hid_size=128, attn_size=128):\n",
    "        \"\"\" Translation model that uses attention. See instructions above. \"\"\"\n",
    "        nn.Module.__init__(self)  \n",
    "        self.inp_voc, self.out_voc = inp_voc, out_voc\n",
    "        self.hid_size = hid_size\n",
    "        \n",
    "        self.emb_inp = nn.Embedding(len(inp_voc), emb_size)\n",
    "        self.emb_out = nn.Embedding(len(out_voc), emb_size)\n",
    "        self.enc0 = nn.GRU(emb_size, hid_size, batch_first=True)\n",
    "\n",
    "        self.dec_start = nn.Linear(hid_size, hid_size)\n",
    "        self.dec0 = nn.GRUCell(emb_size, hid_size)\n",
    "        self.attention = AttentionLayer(\" \", attn_size, attn_size, hid_size).to(device)\n",
    "        self.linear_logits = nn.Linear(attn_size + hid_size, len(out_voc))\n",
    "\n",
    "    def encode(self, inp, **flags):\n",
    "        \"\"\"\n",
    "        Takes symbolic input sequence, computes initial state\n",
    "        :param inp: matrix of input tokens [batch, time]\n",
    "        :return: a list of initial decoder state tensors\n",
    "        \"\"\"\n",
    "        \n",
    "        inp_emb = self.emb_inp(inp)\n",
    "        batch_size = inp.shape[0]\n",
    "        \n",
    "        enc_seq, [last_state_but_not_really] = self.enc0(inp_emb)\n",
    "        lengths = (inp != self.inp_voc.eos_ix).to(torch.int64).sum(dim=1).clamp_max(inp.shape[1] - 1)\n",
    "        last_state = enc_seq[torch.arange(len(enc_seq)), lengths]\n",
    "        \n",
    "        dec_start = self.dec_start(last_state)\n",
    "        \n",
    "        mask = self.inp_voc.compute_mask(inp)\n",
    "        first_attn_probas = self.attention(enc_seq, dec_start, mask)\n",
    "        \n",
    "        \n",
    "        first_state = [dec_start, enc_seq, mask, first_attn_probas]\n",
    "        return first_state\n",
    "   \n",
    "    def decode_step(self, prev_state, prev_tokens, **flags):\n",
    "        \"\"\"\n",
    "        Takes previous decoder state and tokens, returns new state and logits for next tokens\n",
    "        :param prev_state: a list of previous decoder state tensors\n",
    "        :param prev_tokens: previous output tokens, an int vector of [batch_size]\n",
    "        :return: a list of next decoder state tensors, a tensor of logits [batch, n_tokens]\n",
    "        \"\"\"\n",
    "        \n",
    "        dec = prev_state[0]\n",
    "        enc_seq = prev_state[1]\n",
    "        mask = prev_state[2]\n",
    "        attn, probs = prev_state[-1] # [batch_size, enc_size] | [batch_size, ninp]\n",
    "        \n",
    "        new_dec = self.dec0(self.emb_out(prev_tokens), dec) # [batch_size, hid_size]\n",
    "        \n",
    "        output_logits = self.linear_logits(torch.cat((attn, new_dec), 1))\n",
    "        \n",
    "        new_attn, new_probs = self.attention(enc_seq, new_dec, mask)\n",
    "        new_dec_state = [new_dec, enc_seq, mask, [new_attn, new_probs]]\n",
    "        \n",
    "        \n",
    "        return [new_dec_state, output_logits]\n"
   ]
  },
  {
   "cell_type": "markdown",
   "metadata": {
    "colab_type": "text",
    "id": "ryZCOTEslrtf"
   },
   "source": [
    "### Training attentive model\n"
   ]
  },
  {
   "cell_type": "code",
   "execution_count": 45,
   "metadata": {
    "colab": {},
    "colab_type": "code",
    "id": "-YMHPgZxcFaQ"
   },
   "outputs": [],
   "source": [
    "from IPython.display import clear_output\n",
    "from tqdm import tqdm, trange\n",
    "metrics = {'train_loss': [], 'dev_bleu': [] }\n",
    "\n",
    "model = AttentiveModel(\"\", inp_voc, out_voc).to(device)\n",
    "opt = torch.optim.Adam(model.parameters(), lr=1e-3)\n",
    "batch_size = 32"
   ]
  },
  {
   "cell_type": "code",
   "execution_count": 46,
   "metadata": {},
   "outputs": [
    {
     "data": {
      "image/png": "[encoded data removed]",
      "text/plain": [
       "<Figure size 864x288 with 2 Axes>"
      ]
     },
     "metadata": {
      "needs_background": "light"
     },
     "output_type": "display_data"
    },
    {
     "name": "stdout",
     "output_type": "stream",
     "text": [
      "Mean loss=1.031\n"
     ]
    },
    {
     "name": "stderr",
     "output_type": "stream",
     "text": [
      "\n",
      "100%|██████████| 25000/25000 [1:00:16<00:00,  6.91it/s]\u001b[A\n"
     ]
    }
   ],
   "source": [
    "for _ in trange(25000):\n",
    "    step = len(metrics['train_loss']) + 1\n",
    "    batch_ix = np.random.randint(len(train_inp), size=batch_size)\n",
    "    batch_inp = inp_voc.to_matrix(train_inp[batch_ix]).to(device)\n",
    "    batch_out = out_voc.to_matrix(train_out[batch_ix]).to(device)\n",
    "    \n",
    "    opt.zero_grad()\n",
    "    loss_t = compute_loss(model, batch_inp, batch_out)\n",
    "    loss_t.backward()\n",
    "    opt.step()\n",
    "    \n",
    "    \n",
    "    metrics['train_loss'].append((step, loss_t.item()))\n",
    "    \n",
    "    if step % 100 == 0:\n",
    "        metrics['dev_bleu'].append((step, compute_bleu(model, dev_inp, dev_out)))\n",
    "        \n",
    "        clear_output(True)\n",
    "        plt.figure(figsize=(12,4))\n",
    "        for i, (name, history) in enumerate(sorted(metrics.items())):\n",
    "            plt.subplot(1, len(metrics), i + 1)\n",
    "            plt.title(name)\n",
    "            plt.plot(*zip(*history))\n",
    "            plt.grid()\n",
    "        plt.show()\n",
    "        print(\"Mean loss=%.3f\" % np.mean(metrics['train_loss'][-10:], axis=0)[1], flush=True)\n"
   ]
  },
  {
   "cell_type": "code",
   "execution_count": 47,
   "metadata": {},
   "outputs": [
    {
     "data": {
      "text/plain": [
       "22.10368608619968"
      ]
     },
     "execution_count": 47,
     "metadata": {},
     "output_type": "execute_result"
    }
   ],
   "source": [
    "np.mean(metrics['dev_bleu'][-10:], axis=0)[1]"
   ]
  },
  {
   "cell_type": "markdown",
   "metadata": {},
   "source": [
    "### Visualizing model attention"
   ]
  },
  {
   "cell_type": "code",
   "execution_count": 48,
   "metadata": {},
   "outputs": [
    {
     "data": {
      "text/html": [
       "\n",
       "    <div class=\"bk-root\">\n",
       "        <a href=\"https://bokeh.org\" target=\"_blank\" class=\"bk-logo bk-logo-small bk-logo-notebook\"></a>\n",
       "        <span id=\"1357\">Loading BokehJS ...</span>\n",
       "    </div>"
      ]
     },
     "metadata": {},
     "output_type": "display_data"
    },
    {
     "data": {
      "application/javascript": [
       "\n",
       "(function(root) {\n",
       "  function now() {\n",
       "    return new Date();\n",
       "  }\n",
       "\n",
       "  var force = true;\n",
       "\n",
       "  if (typeof root._bokeh_onload_callbacks === \"undefined\" || force === true) {\n",
       "    root._bokeh_onload_callbacks = [];\n",
       "    root._bokeh_is_loading = undefined;\n",
       "  }\n",
       "\n",
       "  var JS_MIME_TYPE = 'application/javascript';\n",
       "  var HTML_MIME_TYPE = 'text/html';\n",
       "  var EXEC_MIME_TYPE = 'application/vnd.bokehjs_exec.v0+json';\n",
       "  var CLASS_NAME = 'output_bokeh rendered_html';\n",
       "\n",
       "  /**\n",
       "   * Render data to the DOM node\n",
       "   */\n",
       "  function render(props, node) {\n",
       "    var script = document.createElement(\"script\");\n",
       "    node.appendChild(script);\n",
       "  }\n",
       "\n",
       "  /**\n",
       "   * Handle when an output is cleared or removed\n",
       "   */\n",
       "  function handleClearOutput(event, handle) {\n",
       "    var cell = handle.cell;\n",
       "\n",
       "    var id = cell.output_area._bokeh_element_id;\n",
       "    var server_id = cell.output_area._bokeh_server_id;\n",
       "    // Clean up Bokeh references\n",
       "    if (id != null && id in Bokeh.index) {\n",
       "      Bokeh.index[id].model.document.clear();\n",
       "      delete Bokeh.index[id];\n",
       "    }\n",
       "\n",
       "    if (server_id !== undefined) {\n",
       "      // Clean up Bokeh references\n",
       "      var cmd = \"from bokeh.io.state import curstate; print(curstate().uuid_to_server['\" + server_id + \"'].get_sessions()[0].document.roots[0]._id)\";\n",
       "      cell.notebook.kernel.execute(cmd, {\n",
       "        iopub: {\n",
       "          output: function(msg) {\n",
       "            var id = msg.content.text.trim();\n",
       "            if (id in Bokeh.index) {\n",
       "              Bokeh.index[id].model.document.clear();\n",
       "              delete Bokeh.index[id];\n",
       "            }\n",
       "          }\n",
       "        }\n",
       "      });\n",
       "      // Destroy server and session\n",
       "      var cmd = \"import bokeh.io.notebook as ion; ion.destroy_server('\" + server_id + \"')\";\n",
       "      cell.notebook.kernel.execute(cmd);\n",
       "    }\n",
       "  }\n",
       "\n",
       "  /**\n",
       "   * Handle when a new output is added\n",
       "   */\n",
       "  function handleAddOutput(event, handle) {\n",
       "    var output_area = handle.output_area;\n",
       "    var output = handle.output;\n",
       "\n",
       "    // limit handleAddOutput to display_data with EXEC_MIME_TYPE content only\n",
       "    if ((output.output_type != \"display_data\") || (!output.data.hasOwnProperty(EXEC_MIME_TYPE))) {\n",
       "      return\n",
       "    }\n",
       "\n",
       "    var toinsert = output_area.element.find(\".\" + CLASS_NAME.split(' ')[0]);\n",
       "\n",
       "    if (output.metadata[EXEC_MIME_TYPE][\"id\"] !== undefined) {\n",
       "      toinsert[toinsert.length - 1].firstChild.textContent = output.data[JS_MIME_TYPE];\n",
       "      // store reference to embed id on output_area\n",
       "      output_area._bokeh_element_id = output.metadata[EXEC_MIME_TYPE][\"id\"];\n",
       "    }\n",
       "    if (output.metadata[EXEC_MIME_TYPE][\"server_id\"] !== undefined) {\n",
       "      var bk_div = document.createElement(\"div\");\n",
       "      bk_div.innerHTML = output.data[HTML_MIME_TYPE];\n",
       "      var script_attrs = bk_div.children[0].attributes;\n",
       "      for (var i = 0; i < script_attrs.length; i++) {\n",
       "        toinsert[toinsert.length - 1].firstChild.setAttribute(script_attrs[i].name, script_attrs[i].value);\n",
       "        toinsert[toinsert.length - 1].firstChild.textContent = bk_div.children[0].textContent\n",
       "      }\n",
       "      // store reference to server id on output_area\n",
       "      output_area._bokeh_server_id = output.metadata[EXEC_MIME_TYPE][\"server_id\"];\n",
       "    }\n",
       "  }\n",
       "\n",
       "  function register_renderer(events, OutputArea) {\n",
       "\n",
       "    function append_mime(data, metadata, element) {\n",
       "      // create a DOM node to render to\n",
       "      var toinsert = this.create_output_subarea(\n",
       "        metadata,\n",
       "        CLASS_NAME,\n",
       "        EXEC_MIME_TYPE\n",
       "      );\n",
       "      this.keyboard_manager.register_events(toinsert);\n",
       "      // Render to node\n",
       "      var props = {data: data, metadata: metadata[EXEC_MIME_TYPE]};\n",
       "      render(props, toinsert[toinsert.length - 1]);\n",
       "      element.append(toinsert);\n",
       "      return toinsert\n",
       "    }\n",
       "\n",
       "    /* Handle when an output is cleared or removed */\n",
       "    events.on('clear_output.CodeCell', handleClearOutput);\n",
       "    events.on('delete.Cell', handleClearOutput);\n",
       "\n",
       "    /* Handle when a new output is added */\n",
       "    events.on('output_added.OutputArea', handleAddOutput);\n",
       "\n",
       "    /**\n",
       "     * Register the mime type and append_mime function with output_area\n",
       "     */\n",
       "    OutputArea.prototype.register_mime_type(EXEC_MIME_TYPE, append_mime, {\n",
       "      /* Is output safe? */\n",
       "      safe: true,\n",
       "      /* Index of renderer in `output_area.display_order` */\n",
       "      index: 0\n",
       "    });\n",
       "  }\n",
       "\n",
       "  // register the mime type if in Jupyter Notebook environment and previously unregistered\n",
       "  if (root.Jupyter !== undefined) {\n",
       "    var events = require('base/js/events');\n",
       "    var OutputArea = require('notebook/js/outputarea').OutputArea;\n",
       "\n",
       "    if (OutputArea.prototype.mime_types().indexOf(EXEC_MIME_TYPE) == -1) {\n",
       "      register_renderer(events, OutputArea);\n",
       "    }\n",
       "  }\n",
       "\n",
       "  \n",
       "  if (typeof (root._bokeh_timeout) === \"undefined\" || force === true) {\n",
       "    root._bokeh_timeout = Date.now() + 5000;\n",
       "    root._bokeh_failed_load = false;\n",
       "  }\n",
       "\n",
       "  var NB_LOAD_WARNING = {'data': {'text/html':\n",
       "     \"<div style='background-color: #fdd'>\\n\"+\n",
       "     \"<p>\\n\"+\n",
       "     \"BokehJS does not appear to have successfully loaded. If loading BokehJS from CDN, this \\n\"+\n",
       "     \"may be due to a slow or bad network connection. Possible fixes:\\n\"+\n",
       "     \"</p>\\n\"+\n",
       "     \"<ul>\\n\"+\n",
       "     \"<li>re-rerun `output_notebook()` to attempt to load from CDN again, or</li>\\n\"+\n",
       "     \"<li>use INLINE resources instead, as so:</li>\\n\"+\n",
       "     \"</ul>\\n\"+\n",
       "     \"<code>\\n\"+\n",
       "     \"from bokeh.resources import INLINE\\n\"+\n",
       "     \"output_notebook(resources=INLINE)\\n\"+\n",
       "     \"</code>\\n\"+\n",
       "     \"</div>\"}};\n",
       "\n",
       "  function display_loaded() {\n",
       "    var el = document.getElementById(\"1357\");\n",
       "    if (el != null) {\n",
       "      el.textContent = \"BokehJS is loading...\";\n",
       "    }\n",
       "    if (root.Bokeh !== undefined) {\n",
       "      if (el != null) {\n",
       "        el.textContent = \"BokehJS \" + root.Bokeh.version + \" successfully loaded.\";\n",
       "      }\n",
       "    } else if (Date.now() < root._bokeh_timeout) {\n",
       "      setTimeout(display_loaded, 100)\n",
       "    }\n",
       "  }\n",
       "\n",
       "\n",
       "  function run_callbacks() {\n",
       "    try {\n",
       "      root._bokeh_onload_callbacks.forEach(function(callback) {\n",
       "        if (callback != null)\n",
       "          callback();\n",
       "      });\n",
       "    } finally {\n",
       "      delete root._bokeh_onload_callbacks\n",
       "    }\n",
       "    console.debug(\"Bokeh: all callbacks have finished\");\n",
       "  }\n",
       "\n",
       "  function load_libs(css_urls, js_urls, callback) {\n",
       "    if (css_urls == null) css_urls = [];\n",
       "    if (js_urls == null) js_urls = [];\n",
       "\n",
       "    root._bokeh_onload_callbacks.push(callback);\n",
       "    if (root._bokeh_is_loading > 0) {\n",
       "      console.debug(\"Bokeh: BokehJS is being loaded, scheduling callback at\", now());\n",
       "      return null;\n",
       "    }\n",
       "    if (js_urls == null || js_urls.length === 0) {\n",
       "      run_callbacks();\n",
       "      return null;\n",
       "    }\n",
       "    console.debug(\"Bokeh: BokehJS not loaded, scheduling load and callback at\", now());\n",
       "    root._bokeh_is_loading = css_urls.length + js_urls.length;\n",
       "\n",
       "    function on_load() {\n",
       "      root._bokeh_is_loading--;\n",
       "      if (root._bokeh_is_loading === 0) {\n",
       "        console.debug(\"Bokeh: all BokehJS libraries/stylesheets loaded\");\n",
       "        run_callbacks()\n",
       "      }\n",
       "    }\n",
       "\n",
       "    function on_error() {\n",
       "      console.error(\"failed to load \" + url);\n",
       "    }\n",
       "\n",
       "    for (var i = 0; i < css_urls.length; i++) {\n",
       "      var url = css_urls[i];\n",
       "      const element = document.createElement(\"link\");\n",
       "      element.onload = on_load;\n",
       "      element.onerror = on_error;\n",
       "      element.rel = \"stylesheet\";\n",
       "      element.type = \"text/css\";\n",
       "      element.href = url;\n",
       "      console.debug(\"Bokeh: injecting link tag for BokehJS stylesheet: \", url);\n",
       "      document.body.appendChild(element);\n",
       "    }\n",
       "\n",
       "    const hashes = {\"https://cdn.bokeh.org/bokeh/release/bokeh-2.2.2.min.js\": \"JayppSWSRBsibIZqI8S4vAb1oFgLL0uhNvSn8cmArlOvYOwfFjYeyY5UWwJ+K0SU\", \"https://cdn.bokeh.org/bokeh/release/bokeh-widgets-2.2.2.min.js\": \"G0/Tv/Yy/zEPNsnW0Qif/FOsGesd+KIrKg/QLmvQmReuUW9qmSP7mAmr0VpiUNr3\", \"https://cdn.bokeh.org/bokeh/release/bokeh-tables-2.2.2.min.js\": \"VLYHEbLQDk5G1+/4ALU0myoJPMEUsngWry2fzYorFOUmarjGRPLLURaeK/on6JqX\"};\n",
       "\n",
       "    for (var i = 0; i < js_urls.length; i++) {\n",
       "      var url = js_urls[i];\n",
       "      var element = document.createElement('script');\n",
       "      element.onload = on_load;\n",
       "      element.onerror = on_error;\n",
       "      element.async = false;\n",
       "      element.src = url;\n",
       "      if (url in hashes) {\n",
       "        element.crossOrigin = \"anonymous\";\n",
       "        element.integrity = \"sha384-\" + hashes[url];\n",
       "      }\n",
       "      console.debug(\"Bokeh: injecting script tag for BokehJS library: \", url);\n",
       "      document.head.appendChild(element);\n",
       "    }\n",
       "  };\n",
       "\n",
       "  function inject_raw_css(css) {\n",
       "    const element = document.createElement(\"style\");\n",
       "    element.appendChild(document.createTextNode(css));\n",
       "    document.body.appendChild(element);\n",
       "  }\n",
       "\n",
       "  \n",
       "  var js_urls = [\"https://cdn.bokeh.org/bokeh/release/bokeh-2.2.2.min.js\", \"https://cdn.bokeh.org/bokeh/release/bokeh-widgets-2.2.2.min.js\", \"https://cdn.bokeh.org/bokeh/release/bokeh-tables-2.2.2.min.js\"];\n",
       "  var css_urls = [];\n",
       "  \n",
       "\n",
       "  var inline_js = [\n",
       "    function(Bokeh) {\n",
       "      Bokeh.set_log_level(\"info\");\n",
       "    },\n",
       "    function(Bokeh) {\n",
       "    \n",
       "    \n",
       "    }\n",
       "  ];\n",
       "\n",
       "  function run_inline_js() {\n",
       "    \n",
       "    if (root.Bokeh !== undefined || force === true) {\n",
       "      \n",
       "    for (var i = 0; i < inline_js.length; i++) {\n",
       "      inline_js[i].call(root, root.Bokeh);\n",
       "    }\n",
       "    if (force === true) {\n",
       "        display_loaded();\n",
       "      }} else if (Date.now() < root._bokeh_timeout) {\n",
       "      setTimeout(run_inline_js, 100);\n",
       "    } else if (!root._bokeh_failed_load) {\n",
       "      console.log(\"Bokeh: BokehJS failed to load within specified timeout.\");\n",
       "      root._bokeh_failed_load = true;\n",
       "    } else if (force !== true) {\n",
       "      var cell = $(document.getElementById(\"1357\")).parents('.cell').data().cell;\n",
       "      cell.output_area.append_execute_result(NB_LOAD_WARNING)\n",
       "    }\n",
       "\n",
       "  }\n",
       "\n",
       "  if (root._bokeh_is_loading === 0) {\n",
       "    console.debug(\"Bokeh: BokehJS loaded, going straight to plotting\");\n",
       "    run_inline_js();\n",
       "  } else {\n",
       "    load_libs(css_urls, js_urls, function() {\n",
       "      console.debug(\"Bokeh: BokehJS plotting callback run at\", now());\n",
       "      run_inline_js();\n",
       "    });\n",
       "  }\n",
       "}(window));"
      ],
      "application/vnd.bokehjs_load.v0+json": "\n(function(root) {\n  function now() {\n    return new Date();\n  }\n\n  var force = true;\n\n  if (typeof root._bokeh_onload_callbacks === \"undefined\" || force === true) {\n    root._bokeh_onload_callbacks = [];\n    root._bokeh_is_loading = undefined;\n  }\n\n  \n\n  \n  if (typeof (root._bokeh_timeout) === \"undefined\" || force === true) {\n    root._bokeh_timeout = Date.now() + 5000;\n    root._bokeh_failed_load = false;\n  }\n\n  var NB_LOAD_WARNING = {'data': {'text/html':\n     \"<div style='background-color: #fdd'>\\n\"+\n     \"<p>\\n\"+\n     \"BokehJS does not appear to have successfully loaded. If loading BokehJS from CDN, this \\n\"+\n     \"may be due to a slow or bad network connection. Possible fixes:\\n\"+\n     \"</p>\\n\"+\n     \"<ul>\\n\"+\n     \"<li>re-rerun `output_notebook()` to attempt to load from CDN again, or</li>\\n\"+\n     \"<li>use INLINE resources instead, as so:</li>\\n\"+\n     \"</ul>\\n\"+\n     \"<code>\\n\"+\n     \"from bokeh.resources import INLINE\\n\"+\n     \"output_notebook(resources=INLINE)\\n\"+\n     \"</code>\\n\"+\n     \"</div>\"}};\n\n  function display_loaded() {\n    var el = document.getElementById(\"1357\");\n    if (el != null) {\n      el.textContent = \"BokehJS is loading...\";\n    }\n    if (root.Bokeh !== undefined) {\n      if (el != null) {\n        el.textContent = \"BokehJS \" + root.Bokeh.version + \" successfully loaded.\";\n      }\n    } else if (Date.now() < root._bokeh_timeout) {\n      setTimeout(display_loaded, 100)\n    }\n  }\n\n\n  function run_callbacks() {\n    try {\n      root._bokeh_onload_callbacks.forEach(function(callback) {\n        if (callback != null)\n          callback();\n      });\n    } finally {\n      delete root._bokeh_onload_callbacks\n    }\n    console.debug(\"Bokeh: all callbacks have finished\");\n  }\n\n  function load_libs(css_urls, js_urls, callback) {\n    if (css_urls == null) css_urls = [];\n    if (js_urls == null) js_urls = [];\n\n    root._bokeh_onload_callbacks.push(callback);\n    if (root._bokeh_is_loading > 0) {\n      console.debug(\"Bokeh: BokehJS is being loaded, scheduling callback at\", now());\n      return null;\n    }\n    if (js_urls == null || js_urls.length === 0) {\n      run_callbacks();\n      return null;\n    }\n    console.debug(\"Bokeh: BokehJS not loaded, scheduling load and callback at\", now());\n    root._bokeh_is_loading = css_urls.length + js_urls.length;\n\n    function on_load() {\n      root._bokeh_is_loading--;\n      if (root._bokeh_is_loading === 0) {\n        console.debug(\"Bokeh: all BokehJS libraries/stylesheets loaded\");\n        run_callbacks()\n      }\n    }\n\n    function on_error() {\n      console.error(\"failed to load \" + url);\n    }\n\n    for (var i = 0; i < css_urls.length; i++) {\n      var url = css_urls[i];\n      const element = document.createElement(\"link\");\n      element.onload = on_load;\n      element.onerror = on_error;\n      element.rel = \"stylesheet\";\n      element.type = \"text/css\";\n      element.href = url;\n      console.debug(\"Bokeh: injecting link tag for BokehJS stylesheet: \", url);\n      document.body.appendChild(element);\n    }\n\n    const hashes = {\"https://cdn.bokeh.org/bokeh/release/bokeh-2.2.2.min.js\": \"JayppSWSRBsibIZqI8S4vAb1oFgLL0uhNvSn8cmArlOvYOwfFjYeyY5UWwJ+K0SU\", \"https://cdn.bokeh.org/bokeh/release/bokeh-widgets-2.2.2.min.js\": \"G0/Tv/Yy/zEPNsnW0Qif/FOsGesd+KIrKg/QLmvQmReuUW9qmSP7mAmr0VpiUNr3\", \"https://cdn.bokeh.org/bokeh/release/bokeh-tables-2.2.2.min.js\": \"VLYHEbLQDk5G1+/4ALU0myoJPMEUsngWry2fzYorFOUmarjGRPLLURaeK/on6JqX\"};\n\n    for (var i = 0; i < js_urls.length; i++) {\n      var url = js_urls[i];\n      var element = document.createElement('script');\n      element.onload = on_load;\n      element.onerror = on_error;\n      element.async = false;\n      element.src = url;\n      if (url in hashes) {\n        element.crossOrigin = \"anonymous\";\n        element.integrity = \"sha384-\" + hashes[url];\n      }\n      console.debug(\"Bokeh: injecting script tag for BokehJS library: \", url);\n      document.head.appendChild(element);\n    }\n  };\n\n  function inject_raw_css(css) {\n    const element = document.createElement(\"style\");\n    element.appendChild(document.createTextNode(css));\n    document.body.appendChild(element);\n  }\n\n  \n  var js_urls = [\"https://cdn.bokeh.org/bokeh/release/bokeh-2.2.2.min.js\", \"https://cdn.bokeh.org/bokeh/release/bokeh-widgets-2.2.2.min.js\", \"https://cdn.bokeh.org/bokeh/release/bokeh-tables-2.2.2.min.js\"];\n  var css_urls = [];\n  \n\n  var inline_js = [\n    function(Bokeh) {\n      Bokeh.set_log_level(\"info\");\n    },\n    function(Bokeh) {\n    \n    \n    }\n  ];\n\n  function run_inline_js() {\n    \n    if (root.Bokeh !== undefined || force === true) {\n      \n    for (var i = 0; i < inline_js.length; i++) {\n      inline_js[i].call(root, root.Bokeh);\n    }\n    if (force === true) {\n        display_loaded();\n      }} else if (Date.now() < root._bokeh_timeout) {\n      setTimeout(run_inline_js, 100);\n    } else if (!root._bokeh_failed_load) {\n      console.log(\"Bokeh: BokehJS failed to load within specified timeout.\");\n      root._bokeh_failed_load = true;\n    } else if (force !== true) {\n      var cell = $(document.getElementById(\"1357\")).parents('.cell').data().cell;\n      cell.output_area.append_execute_result(NB_LOAD_WARNING)\n    }\n\n  }\n\n  if (root._bokeh_is_loading === 0) {\n    console.debug(\"Bokeh: BokehJS loaded, going straight to plotting\");\n    run_inline_js();\n  } else {\n    load_libs(css_urls, js_urls, function() {\n      console.debug(\"Bokeh: BokehJS plotting callback run at\", now());\n      run_inline_js();\n    });\n  }\n}(window));"
     },
     "metadata": {},
     "output_type": "display_data"
    }
   ],
   "source": [
    "import bokeh.plotting as pl\n",
    "import bokeh.models as bm\n",
    "from bokeh.io import output_notebook, show\n",
    "from bokeh.models import FixedTicker\n",
    "output_notebook()\n",
    "\n",
    "def draw_attention(inp_line, translation, probs):\n",
    "    \"\"\" An intentionally ambiguous function to visualize attention weights \"\"\"\n",
    "    inp_tokens = inp_voc.tokenize(inp_line)\n",
    "    trans_tokens = out_voc.tokenize(translation)\n",
    "    probs = probs[:len(trans_tokens), :len(inp_tokens)]\n",
    "    \n",
    "    fig = pl.figure(x_range=(0, len(inp_tokens)), y_range=(0, len(trans_tokens)),\n",
    "                    x_axis_type=None, y_axis_type=None, tools=[])\n",
    "    fig.image([probs[::-1]], 0, 0, len(inp_tokens), len(trans_tokens))\n",
    "\n",
    "    fig.add_layout(bm.LinearAxis(axis_label='source tokens'), 'above')\n",
    "    fig.xaxis.ticker = FixedTicker(ticks=np.arange(len(inp_tokens)) + 0.5)\n",
    "    fig.xaxis.major_label_overrides = dict(zip(np.arange(len(inp_tokens)) + 0.5, inp_tokens))\n",
    "    fig.xaxis.major_label_orientation = 45\n",
    "\n",
    "    fig.add_layout(bm.LinearAxis(axis_label='translation tokens'), 'left')\n",
    "    fig.yaxis.ticker = FixedTicker(ticks=np.arange(len(trans_tokens)) + 0.5)\n",
    "    fig.yaxis.major_label_overrides = dict(zip(np.arange(len(trans_tokens)) + 0.5, trans_tokens[::-1]))\n",
    "\n",
    "    show(fig)"
   ]
  },
  {
   "cell_type": "code",
   "execution_count": 49,
   "metadata": {},
   "outputs": [],
   "source": [
    "inp = dev_inp[::500]\n",
    "\n",
    "trans, states = model.translate_lines(inp)\n",
    "attention_probs = np.stack([state[-1][-1].to('cpu').detach() for state in states], axis=1)"
   ]
  },
  {
   "cell_type": "code",
   "execution_count": 50,
   "metadata": {},
   "outputs": [
    {
     "data": {
      "text/html": [
       "\n",
       "\n",
       "\n",
       "\n",
       "\n",
       "\n",
       "  <div class=\"bk-root\" id=\"f5f62a48-f994-4228-88bd-b8add0386026\" data-root-id=\"1358\"></div>\n"
      ]
     },
     "metadata": {},
     "output_type": "display_data"
    },
    {
     "data": {
      "application/javascript": [
       "(function(root) {\n",
       "  function embed_document(root) {\n",
       "    \n",
       "  var docs_json = {\"30aeb8d2-e3fa-42da-9958-f9fd584c9ab1\":{\"roots\":{\"references\":[{\"attributes\":{\"above\":[{\"id\":\"1375\"}],\"left\":[{\"id\":\"1378\"}],\"renderers\":[{\"id\":\"1373\"}],\"title\":{\"id\":\"1411\"},\"toolbar\":{\"id\":\"1367\"},\"x_range\":{\"id\":\"1359\"},\"x_scale\":{\"id\":\"1363\"},\"y_range\":{\"id\":\"1361\"},\"y_scale\":{\"id\":\"1365\"}},\"id\":\"1358\",\"subtype\":\"Figure\",\"type\":\"Plot\"},{\"attributes\":{},\"id\":\"1415\",\"type\":\"UnionRenderers\"},{\"attributes\":{\"palette\":[\"#000000\",\"#252525\",\"#525252\",\"#737373\",\"#969696\",\"#bdbdbd\",\"#d9d9d9\",\"#f0f0f0\",\"#ffffff\"]},\"id\":\"1370\",\"type\":\"LinearColorMapper\"},{\"attributes\":{\"data\":{\"image\":[{\"__ndarray__\":\"dZcRMJE1HzOn5JExK95XMVf2+jUDFqA38lIYOM1ciTqIUwo8NZiAPTx7bT8aaNEvp3wDL7sxgy5vqJgtLvKAMfiTpTDQ850z4KwFOPfLmTiP5ug7Syd+P2MIsC8B25Qv7UagLhri9S3JWEQzpVgCNogmQTQvvQ44JzUCONPLmDv/yX4/yqeJL4weUS+in3QwLYKlL9Jl6TXaZZg5IX6uO7X/Uzt+lMU8Yt7cPWrzWz+DIkMvoiTnL3TN2yxq8s0uUAReNTu39jhb9D06bsacPEcVhDye4SI+eglOP+Thhi8nXT0zdtzpMsBT1zCeYfo3lKekOHXakTpZIRA6ITwBPIEvFT/7rtA+M3KeLdQIgTBw8cQtNoK+Lt2/pTbhhiY5UUZjPBUrwjz0my8+dkkLP3yZfD5nhccvVPuBMcUkGjLvCI8wfU0XOD6iojmqGkw7+vRZPE0noj1TcOU+mnDpPvAOojJXpaQ0MqkGMmcHjTPds7M4bS+sO6+OZTvIXYU8BGyQPn3s1D6Ayo0+cNWqMQlNyTPY9kUzOYrUMUoYCzlbJf08djgrPWp1nj3zTIs+91OqPuHtej6Wk3wxGhiSMhuwnzIu/5E1k1wUOlvJqj02MSU/JWXHPMiRcz0jA/M9Td6LPQoZHDOiNqczLxiRNcQ5OTaApY08yE4CPgZIoD6xK4s+rzY4PrhxmD1JJIU8Rth9NXd+1Tb2SiE0EGOPNoCXzzvAMaE8eRIMPaImBD6LrtI+HVmzPp59SD1/shs092QnNFkEGTeSckQ5n7XYO21Dlj5cRXg9Fy9zPVZD8j6nULg9PZ6HPH62JTkUUWc4ZUPKOrmdyzonLfc9S+2CPoqm4j3gs0k+eYtQPsYgfz2IQT89\",\"dtype\":\"float32\",\"order\":\"little\",\"shape\":[15,11]}]},\"selected\":{\"id\":\"1416\"},\"selection_policy\":{\"id\":\"1415\"}},\"id\":\"1368\",\"type\":\"ColumnDataSource\"},{\"attributes\":{},\"id\":\"1416\",\"type\":\"Selection\"},{\"attributes\":{\"text\":\"\"},\"id\":\"1411\",\"type\":\"Title\"},{\"attributes\":{\"source\":{\"id\":\"1368\"}},\"id\":\"1374\",\"type\":\"CDSView\"},{\"attributes\":{\"ticks\":[0.5,1.5,2.5,3.5,4.5,5.5,6.5,7.5,8.5,9.5,10.5,11.5,12.5,13.5,14.5]},\"id\":\"1379\",\"type\":\"FixedTicker\"},{\"attributes\":{\"color_mapper\":{\"id\":\"1372\"},\"dh\":{\"units\":\"data\",\"value\":15},\"dw\":{\"units\":\"data\",\"value\":11},\"global_alpha\":0.1,\"image\":{\"field\":\"image\"},\"x\":{\"value\":0},\"y\":{\"value\":0}},\"id\":\"1371\",\"type\":\"Image\"},{\"attributes\":{\"end\":15},\"id\":\"1361\",\"type\":\"Range1d\"},{\"attributes\":{\"axis_label\":\"source tokens\",\"formatter\":{\"id\":\"1414\"},\"major_label_orientation\":45,\"major_label_overrides\":{\"0.5\":\"_BOS_\",\"1.5\":\"\\u0432\",\"10.5\":\"_EOS_\",\"2.5\":\"\\u0440\\u0430\\u0441\\u043f\\u043e\\u0440\\u044f\\u0436\\u0435\\u043d\\u0438\\u0438\",\"3.5\":\"\\u0433\\u043e\\u0441\\u0442\\u0435\\u0439\",\"4.5\":\"\\u043e\\u0431\\u0449\\u0430\\u044f\",\"5.5\":\"\\u043a\\u0443\\u0445\\u043d\\u044f\",\"6.5\":\"\\u0438\",\"7.5\":\"\\u043e\\u0431\\u0449\\u0430\\u044f\",\"8.5\":\"\\u0433\\u043e\\u0441\\u0442\\u0438\\u043d\\u0430\\u044f\",\"9.5\":\".\"},\"ticker\":{\"id\":\"1376\"}},\"id\":\"1375\",\"type\":\"LinearAxis\"},{\"attributes\":{\"palette\":[\"#000000\",\"#252525\",\"#525252\",\"#737373\",\"#969696\",\"#bdbdbd\",\"#d9d9d9\",\"#f0f0f0\",\"#ffffff\"]},\"id\":\"1372\",\"type\":\"LinearColorMapper\"},{\"attributes\":{\"data_source\":{\"id\":\"1368\"},\"glyph\":{\"id\":\"1369\"},\"hover_glyph\":null,\"muted_glyph\":null,\"nonselection_glyph\":{\"id\":\"1371\"},\"selection_glyph\":null,\"view\":{\"id\":\"1374\"}},\"id\":\"1373\",\"type\":\"GlyphRenderer\"},{\"attributes\":{\"end\":11},\"id\":\"1359\",\"type\":\"Range1d\"},{\"attributes\":{},\"id\":\"1363\",\"type\":\"LinearScale\"},{\"attributes\":{\"ticks\":[0.5,1.5,2.5,3.5,4.5,5.5,6.5,7.5,8.5,9.5,10.5]},\"id\":\"1376\",\"type\":\"FixedTicker\"},{\"attributes\":{},\"id\":\"1413\",\"type\":\"BasicTickFormatter\"},{\"attributes\":{},\"id\":\"1365\",\"type\":\"LinearScale\"},{\"attributes\":{\"color_mapper\":{\"id\":\"1370\"},\"dh\":{\"units\":\"data\",\"value\":15},\"dw\":{\"units\":\"data\",\"value\":11},\"image\":{\"field\":\"image\"},\"x\":{\"value\":0},\"y\":{\"value\":0}},\"id\":\"1369\",\"type\":\"Image\"},{\"attributes\":{\"axis_label\":\"translation tokens\",\"formatter\":{\"id\":\"1413\"},\"major_label_overrides\":{\"0.5\":\"_EOS_\",\"1.5\":\".\",\"10.5\":\"shared\",\"11.5\":\"a\",\"12.5\":\"is\",\"13.5\":\"there\",\"14.5\":\"_BOS_\",\"2.5\":\"kitchen\",\"3.5\":\"shared\",\"4.5\":\"a\",\"5.5\":\"use\",\"6.5\":\"can\",\"7.5\":\"guests\",\"8.5\":\"where\",\"9.5\":\"kitchen\"},\"ticker\":{\"id\":\"1379\"}},\"id\":\"1378\",\"type\":\"LinearAxis\"},{\"attributes\":{},\"id\":\"1414\",\"type\":\"BasicTickFormatter\"},{\"attributes\":{\"active_drag\":\"auto\",\"active_inspect\":\"auto\",\"active_multi\":null,\"active_scroll\":\"auto\",\"active_tap\":\"auto\"},\"id\":\"1367\",\"type\":\"Toolbar\"}],\"root_ids\":[\"1358\"]},\"title\":\"Bokeh Application\",\"version\":\"2.2.2\"}};\n",
       "  var render_items = [{\"docid\":\"30aeb8d2-e3fa-42da-9958-f9fd584c9ab1\",\"root_ids\":[\"1358\"],\"roots\":{\"1358\":\"f5f62a48-f994-4228-88bd-b8add0386026\"}}];\n",
       "  root.Bokeh.embed.embed_items_notebook(docs_json, render_items);\n",
       "\n",
       "  }\n",
       "  if (root.Bokeh !== undefined) {\n",
       "    embed_document(root);\n",
       "  } else {\n",
       "    var attempts = 0;\n",
       "    var timer = setInterval(function(root) {\n",
       "      if (root.Bokeh !== undefined) {\n",
       "        clearInterval(timer);\n",
       "        embed_document(root);\n",
       "      } else {\n",
       "        attempts++;\n",
       "        if (attempts > 100) {\n",
       "          clearInterval(timer);\n",
       "          console.log(\"Bokeh: ERROR: Unable to run BokehJS code because BokehJS library is missing\");\n",
       "        }\n",
       "      }\n",
       "    }, 10, root)\n",
       "  }\n",
       "})(window);"
      ],
      "application/vnd.bokehjs_exec.v0+json": ""
     },
     "metadata": {
      "application/vnd.bokehjs_exec.v0+json": {
       "id": "1358"
      }
     },
     "output_type": "display_data"
    }
   ],
   "source": [
    "draw_attention(inp[0], trans[0], attention_probs[0])"
   ]
  },
  {
   "cell_type": "code",
   "execution_count": 51,
   "metadata": {},
   "outputs": [
    {
     "data": {
      "text/html": [
       "\n",
       "\n",
       "\n",
       "\n",
       "\n",
       "\n",
       "  <div class=\"bk-root\" id=\"b661a52f-0064-49c2-8e6e-29ae95b35110\" data-root-id=\"1447\"></div>\n"
      ]
     },
     "metadata": {},
     "output_type": "display_data"
    },
    {
     "data": {
      "application/javascript": [
       "(function(root) {\n",
       "  function embed_document(root) {\n",
       "    \n",
       "  var docs_json = {\"dbe34565-fd0e-4f78-a4ab-c5241d8d68ae\":{\"roots\":{\"references\":[{\"attributes\":{\"above\":[{\"id\":\"1464\"}],\"left\":[{\"id\":\"1467\"}],\"renderers\":[{\"id\":\"1462\"}],\"title\":{\"id\":\"1506\"},\"toolbar\":{\"id\":\"1456\"},\"x_range\":{\"id\":\"1448\"},\"x_scale\":{\"id\":\"1452\"},\"y_range\":{\"id\":\"1450\"},\"y_scale\":{\"id\":\"1454\"}},\"id\":\"1447\",\"subtype\":\"Figure\",\"type\":\"Plot\"},{\"attributes\":{\"axis_label\":\"translation tokens\",\"formatter\":{\"id\":\"1508\"},\"major_label_overrides\":{\"0.5\":\"_EOS_\",\"1.5\":\".\",\"10.5\":\"the\",\"11.5\":\"at\",\"12.5\":\"offered\",\"13.5\":\"facilities\",\"14.5\":\"other\",\"15.5\":\"_BOS_\",\"2.5\":\"parking\",\"3.5\":\"free\",\"4.5\":\"and\",\"5.5\":\"service\",\"6.5\":\"rental\",\"7.5\":\"free\",\"8.5\":\"include\",\"9.5\":\"property\"},\"ticker\":{\"id\":\"1468\"}},\"id\":\"1467\",\"type\":\"LinearAxis\"},{\"attributes\":{},\"id\":\"1508\",\"type\":\"BasicTickFormatter\"},{\"attributes\":{},\"id\":\"1511\",\"type\":\"Selection\"},{\"attributes\":{},\"id\":\"1454\",\"type\":\"LinearScale\"},{\"attributes\":{\"axis_label\":\"source tokens\",\"formatter\":{\"id\":\"1509\"},\"major_label_orientation\":45,\"major_label_overrides\":{\"0.5\":\"_BOS_\",\"1.5\":\"\\u043a\\u0440\\u043e\\u043c\\u0435\",\"10.5\":\"\\u0438\",\"11.5\":\"\\u0431\\u0435\\u0441\\u043f\\u043b\\u0430\\u0442\\u043d\\u0430\\u044f\",\"12.5\":\"\\u043f\\u0430\\u0440\\u043a\\u043e\\u0432\\u043a\\u0430\",\"13.5\":\".\",\"14.5\":\"_EOS_\",\"2.5\":\"\\u0442\\u043e\\u0433\\u043e\",\"3.5\":\",\",\"4.5\":\"\\u043f\\u0440\\u0435\\u0434\\u043e\\u0441\\u0442\\u0430\\u0432\\u043b\\u044f\\u0435\\u0442\\u0441\\u044f\",\"5.5\":\"\\u043f\\u0440\\u043e\\u043a\\u0430\\u0442\",\"6.5\":\"\\u0432\\u0435\\u043b\\u043e\\u0441\\u0438\\u043f\\u0435\\u0434\\u043e\\u0432\",\"7.5\":\",\",\"8.5\":\"\\u0443\\u0441\\u043b\\u0443\\u0433\\u0438\",\"9.5\":\"\\u0442\\u0440\\u0430\\u043d\\u0441\\u0444\\u0435\\u0440\\u0430\"},\"ticker\":{\"id\":\"1465\"}},\"id\":\"1464\",\"type\":\"LinearAxis\"},{\"attributes\":{\"data\":{\"image\":[{\"__ndarray__\":\"l+/bLJ8RGC+B9QUuolgaME+JrjBFIAo0SGDBOAfg6zeU7yM4/jjoN8UzCzlkmAI8xxNHPdwGkz776yc/Bwm7L+0UejMmuKsxbOL5MXzQgTLAvX42nY5VOP/wnja2GTE1gAe/Nowlmjd8Lko6zzKHOmPTqjy5LXo/whllKbJkIC5QAw0tmHWaLpU5hTJ8abE3KhAlOKXLJThDjxc20kSBNo6Akjgfz9c6+PuAPPA74jzPbnQ/6z8OLgdbqjCkAegv/7IMLjKRvjFdg6AzHLeyNhoPaTgLxpk1gXSiNitNPzj9LP47krX3PU/xCD+JKKw+In8BMNvx8DIK7a0xJnZlMNvC+jFyCyg3a6pkOX2YdTkTAkE5HB7wODD8GzrXT5M8Y/GRPqtZHz9M0pU9vS+fMeESBTWWC6k0fvWnMlPk9jQMzBM3UjPrOT10QjrIFkE50KXuOS1qCDzEw88+5R3XPolT1D3gp3Y9rebrLNSARTGVRqsxCUJPNMi6WjZTZZQ6z+AVPfrbCj4083M9ee9fPV+/HT7Ojzg+BP6YPr1Tbj2hSq08Qa/xMVXjNjNXigw0Nd98NNHTkDaYSZk5W2awPQHyOj9LdWU9i6MYPUAXvTyJy608lUj9PNK9STx02SM7qGodNB/qIzR1Pis1PkZ9Mx0y6zTveO07Mch0Pd+U7D5lJao+4MYXPclxpjyr3gs9CDEWPT8iFTzOoqs6yL+1NZ2rWjev9Zk45BhvNisxZjh1TiU9x7T1PiGmvT0z8FA9dx4pPuaHmD0YKMg8rvooPVfp8DysDaU6fi02OkDNxjvgIgg8qe4vOigKpjoM/5Y9hp1UPzcuCD1dLA09wYHRO7PRtjkrbb86viofOjtcwzp3uzw6qVNVNT8HHzciy1E2GnT9NtwWXDerCnI6kV0SP8C14T3QD4Q+hl0mPMlYMzsYCqE85YFWPByURDzkMsc6IFwLNbJMlzbSbrQ3StmKNh7zvzcjbYM+e0YCPy0B+j0jX1U9w7PqO9k/3zs3c9Y7CLIIPe8pzDtc5qI4iSzSMviCDzSgLQ426oc+N6zuBTcrHoY637MmPrFIPz9OKm0945eUOxDNgjzNvfY7iSAjO+Hb4TmJN9k4OzlGNMefBDZg9L41qfA7OGxsOzgB+ec7hzNAP5gu9D1jfuQ8pHGgPTjvdTy0Mg86WtFDOjVhhznMzIQ3K7sXN5P6Uzg0/0g5oP0cO9ve9jt5KRo95evUPuwvqT53PyE9BPJKPUtbxD1wOTc8epgCPNUfvjqhlvs5\",\"dtype\":\"float32\",\"order\":\"little\",\"shape\":[16,15]}]},\"selected\":{\"id\":\"1511\"},\"selection_policy\":{\"id\":\"1510\"}},\"id\":\"1457\",\"type\":\"ColumnDataSource\"},{\"attributes\":{\"source\":{\"id\":\"1457\"}},\"id\":\"1463\",\"type\":\"CDSView\"},{\"attributes\":{\"palette\":[\"#000000\",\"#252525\",\"#525252\",\"#737373\",\"#969696\",\"#bdbdbd\",\"#d9d9d9\",\"#f0f0f0\",\"#ffffff\"]},\"id\":\"1459\",\"type\":\"LinearColorMapper\"},{\"attributes\":{\"end\":15},\"id\":\"1448\",\"type\":\"Range1d\"},{\"attributes\":{\"palette\":[\"#000000\",\"#252525\",\"#525252\",\"#737373\",\"#969696\",\"#bdbdbd\",\"#d9d9d9\",\"#f0f0f0\",\"#ffffff\"]},\"id\":\"1461\",\"type\":\"LinearColorMapper\"},{\"attributes\":{},\"id\":\"1509\",\"type\":\"BasicTickFormatter\"},{\"attributes\":{\"color_mapper\":{\"id\":\"1461\"},\"dh\":{\"units\":\"data\",\"value\":16},\"dw\":{\"units\":\"data\",\"value\":15},\"global_alpha\":0.1,\"image\":{\"field\":\"image\"},\"x\":{\"value\":0},\"y\":{\"value\":0}},\"id\":\"1460\",\"type\":\"Image\"},{\"attributes\":{\"text\":\"\"},\"id\":\"1506\",\"type\":\"Title\"},{\"attributes\":{\"data_source\":{\"id\":\"1457\"},\"glyph\":{\"id\":\"1458\"},\"hover_glyph\":null,\"muted_glyph\":null,\"nonselection_glyph\":{\"id\":\"1460\"},\"selection_glyph\":null,\"view\":{\"id\":\"1463\"}},\"id\":\"1462\",\"type\":\"GlyphRenderer\"},{\"attributes\":{\"color_mapper\":{\"id\":\"1459\"},\"dh\":{\"units\":\"data\",\"value\":16},\"dw\":{\"units\":\"data\",\"value\":15},\"image\":{\"field\":\"image\"},\"x\":{\"value\":0},\"y\":{\"value\":0}},\"id\":\"1458\",\"type\":\"Image\"},{\"attributes\":{},\"id\":\"1452\",\"type\":\"LinearScale\"},{\"attributes\":{},\"id\":\"1510\",\"type\":\"UnionRenderers\"},{\"attributes\":{\"ticks\":[0.5,1.5,2.5,3.5,4.5,5.5,6.5,7.5,8.5,9.5,10.5,11.5,12.5,13.5,14.5]},\"id\":\"1465\",\"type\":\"FixedTicker\"},{\"attributes\":{\"active_drag\":\"auto\",\"active_inspect\":\"auto\",\"active_multi\":null,\"active_scroll\":\"auto\",\"active_tap\":\"auto\"},\"id\":\"1456\",\"type\":\"Toolbar\"},{\"attributes\":{\"end\":16},\"id\":\"1450\",\"type\":\"Range1d\"},{\"attributes\":{\"ticks\":[0.5,1.5,2.5,3.5,4.5,5.5,6.5,7.5,8.5,9.5,10.5,11.5,12.5,13.5,14.5,15.5]},\"id\":\"1468\",\"type\":\"FixedTicker\"}],\"root_ids\":[\"1447\"]},\"title\":\"Bokeh Application\",\"version\":\"2.2.2\"}};\n",
       "  var render_items = [{\"docid\":\"dbe34565-fd0e-4f78-a4ab-c5241d8d68ae\",\"root_ids\":[\"1447\"],\"roots\":{\"1447\":\"b661a52f-0064-49c2-8e6e-29ae95b35110\"}}];\n",
       "  root.Bokeh.embed.embed_items_notebook(docs_json, render_items);\n",
       "\n",
       "  }\n",
       "  if (root.Bokeh !== undefined) {\n",
       "    embed_document(root);\n",
       "  } else {\n",
       "    var attempts = 0;\n",
       "    var timer = setInterval(function(root) {\n",
       "      if (root.Bokeh !== undefined) {\n",
       "        clearInterval(timer);\n",
       "        embed_document(root);\n",
       "      } else {\n",
       "        attempts++;\n",
       "        if (attempts > 100) {\n",
       "          clearInterval(timer);\n",
       "          console.log(\"Bokeh: ERROR: Unable to run BokehJS code because BokehJS library is missing\");\n",
       "        }\n",
       "      }\n",
       "    }, 10, root)\n",
       "  }\n",
       "})(window);"
      ],
      "application/vnd.bokehjs_exec.v0+json": ""
     },
     "metadata": {
      "application/vnd.bokehjs_exec.v0+json": {
       "id": "1447"
      }
     },
     "output_type": "display_data"
    }
   ],
   "source": [
    "draw_attention(inp[1], trans[1], attention_probs[1])"
   ]
  },
  {
   "cell_type": "code",
   "execution_count": 52,
   "metadata": {},
   "outputs": [
    {
     "data": {
      "text/html": [
       "\n",
       "\n",
       "\n",
       "\n",
       "\n",
       "\n",
       "  <div class=\"bk-root\" id=\"9d8876da-29a3-44f2-ab7b-d5776896633f\" data-root-id=\"1542\"></div>\n"
      ]
     },
     "metadata": {},
     "output_type": "display_data"
    },
    {
     "data": {
      "application/javascript": [
       "(function(root) {\n",
       "  function embed_document(root) {\n",
       "    \n",
       "  var docs_json = {\"5075582a-1606-4f36-8b0c-026b80ae75b6\":{\"roots\":{\"references\":[{\"attributes\":{\"above\":[{\"id\":\"1559\"}],\"left\":[{\"id\":\"1562\"}],\"renderers\":[{\"id\":\"1557\"}],\"title\":{\"id\":\"1607\"},\"toolbar\":{\"id\":\"1551\"},\"x_range\":{\"id\":\"1543\"},\"x_scale\":{\"id\":\"1547\"},\"y_range\":{\"id\":\"1545\"},\"y_scale\":{\"id\":\"1549\"}},\"id\":\"1542\",\"subtype\":\"Figure\",\"type\":\"Plot\"},{\"attributes\":{},\"id\":\"1611\",\"type\":\"UnionRenderers\"},{\"attributes\":{\"axis_label\":\"translation tokens\",\"formatter\":{\"id\":\"1609\"},\"major_label_overrides\":{\"0.5\":\"_EOS_\",\"1.5\":\".\",\"10.5\":\"kaliningrad\",\"11.5\":\"is\",\"12.5\":\"airport\",\"13.5\":\"nearest\",\"14.5\":\"the\",\"15.5\":\"_BOS_\",\"2.5\":\"property\",\"3.5\":\"the\",\"4.5\":\"from\",\"5.5\":\"km\",\"6.5\":\"26\",\"7.5\":\"its\",\"8.5\":\"in\",\"9.5\":\"khrabrovo\"},\"ticker\":{\"id\":\"1563\"}},\"id\":\"1562\",\"type\":\"LinearAxis\"},{\"attributes\":{\"end\":16},\"id\":\"1545\",\"type\":\"Range1d\"},{\"attributes\":{\"active_drag\":\"auto\",\"active_inspect\":\"auto\",\"active_multi\":null,\"active_scroll\":\"auto\",\"active_tap\":\"auto\"},\"id\":\"1551\",\"type\":\"Toolbar\"},{\"attributes\":{\"text\":\"\"},\"id\":\"1607\",\"type\":\"Title\"},{\"attributes\":{\"color_mapper\":{\"id\":\"1554\"},\"dh\":{\"units\":\"data\",\"value\":16},\"dw\":{\"units\":\"data\",\"value\":13},\"image\":{\"field\":\"image\"},\"x\":{\"value\":0},\"y\":{\"value\":0}},\"id\":\"1553\",\"type\":\"Image\"},{\"attributes\":{\"data\":{\"image\":[{\"__ndarray__\":\"FdffL2fjYjQJxaU26QK7Ninh4jZOkNE2Wc8GOU9F2jdr1lA2mobGOOvbqDvojKQ8yXd5P83bgTQghKE2nN4FNyXZbjmNmxM7UhN/OtEuwzvHvBI7yjcTOWgatTrx4349XFfcOw35aj8v8eIy6AhnMm9tQTVztSQ5mQG7O0zJUjlTqIA8vE32PTiYkjlf5Ms7y2wbO7gnGzvPwlg/QsMFM11dZjRF9AM3GiVlOLeeiz1OqNs6ErSyPVChuz6s+ug4jktBPZ+mkzrsz9Q7NMfXPhYjazULYRw0MWPENTFkOTm07ow9AKM9PMIIvj1BScE9ebzTOakg3DtWOwI7DMoUPQnULz+10PE2Rx3nOATHkzrqKeE94AM0Pm7YyDqIYfA94TYmPYyXNToNCfo9GfdwPThvbT19vqA+fVZPNS9KgTOLTFs4hNmVOTrm0j3/Y7k5WpSePN7xIT7Tzdw4mZ5cPaGn9z4Kz4w9xjHmPQOBBzgEmh80zRgqNc9RDjkuMiI8A67wOJeR9jr+ZeE6OAIqOYrjRz4ND0A/VYI+PJiB7TxsVvI0eWp5OGxzYjm4kww8t+hoOq8zRTggJLw7hVvKOSqzxTfwjJA92/VoP4pARTswpPM5Aq9ZNBA3qjUNsWo3HABkO+nHET3Lkbw62ne1PQ62+j2jvvA4exoAP3roaD5Szm48RZDBOz/BbTLb8HwzwzNLN+OvpjkoPTI7BXYHOZUVNjvp/dU886PnOow4Uz7w7zE/J8JVPGgLVD2RJNMymEe9M7X4BDYAcZI60S3lPKmgTzyqNoM9PCezPr24jDs1+a0+/sARPgWXoTzAExw96ORrMn9imzEg9zE2NK2pO7iSIzx8Lf44i8vrOwvK4D0cfcA6csv1PC26Uj82o287uD4bPK6dIjV4CKgy2l8dNow24zo2Ig48/TMUOwbqGj5430o+mcDCOhur5j7qw7w9VeMRPP3ArT3XWkk2YrmPNru1lDhsWnU6rEwLPAzaCj4grLs+VTfxPKzZIzo/KuM+Yu9cPH6bJDpZcfg5PFU7N7GHiDewnlk3jajcOkk9Cz7VECA9TLykPipH1D5FFhw7mzOOPU4tDjw22WI7ptM+Ow==\",\"dtype\":\"float32\",\"order\":\"little\",\"shape\":[16,13]}]},\"selected\":{\"id\":\"1612\"},\"selection_policy\":{\"id\":\"1611\"}},\"id\":\"1552\",\"type\":\"ColumnDataSource\"},{\"attributes\":{\"source\":{\"id\":\"1552\"}},\"id\":\"1558\",\"type\":\"CDSView\"},{\"attributes\":{},\"id\":\"1609\",\"type\":\"BasicTickFormatter\"},{\"attributes\":{\"palette\":[\"#000000\",\"#252525\",\"#525252\",\"#737373\",\"#969696\",\"#bdbdbd\",\"#d9d9d9\",\"#f0f0f0\",\"#ffffff\"]},\"id\":\"1556\",\"type\":\"LinearColorMapper\"},{\"attributes\":{\"end\":13},\"id\":\"1543\",\"type\":\"Range1d\"},{\"attributes\":{},\"id\":\"1547\",\"type\":\"LinearScale\"},{\"attributes\":{\"ticks\":[0.5,1.5,2.5,3.5,4.5,5.5,6.5,7.5,8.5,9.5,10.5,11.5,12.5,13.5,14.5,15.5]},\"id\":\"1563\",\"type\":\"FixedTicker\"},{\"attributes\":{\"data_source\":{\"id\":\"1552\"},\"glyph\":{\"id\":\"1553\"},\"hover_glyph\":null,\"muted_glyph\":null,\"nonselection_glyph\":{\"id\":\"1555\"},\"selection_glyph\":null,\"view\":{\"id\":\"1558\"}},\"id\":\"1557\",\"type\":\"GlyphRenderer\"},{\"attributes\":{\"axis_label\":\"source tokens\",\"formatter\":{\"id\":\"1610\"},\"major_label_orientation\":45,\"major_label_overrides\":{\"0.5\":\"_BOS_\",\"1.5\":\"\\u0440\\u0430\\u0441\\u0441\\u0442\\u043e\\u044f\\u043d\\u0438\\u0435\",\"10.5\":\"\\u043a\\u043c\",\"11.5\":\".\",\"12.5\":\"_EOS_\",\"2.5\":\"\\u0434\\u043e\",\"3.5\":\"\\u0433\\u043e\\u0440\\u043e\\u0434\\u0430\",\"4.5\":\"\\u043a\\u0438@@\",\"5.5\":\"\\u0441\\u0441\\u0438@@\",\"6.5\":\"\\u043c@@\",\"7.5\":\"\\u043c\\u0438\",\"8.5\":\"\\u0441\\u043e\\u0441\\u0442\\u0430\\u0432\\u043b\\u044f\\u0435\\u0442\",\"9.5\":\"26\"},\"ticker\":{\"id\":\"1560\"}},\"id\":\"1559\",\"type\":\"LinearAxis\"},{\"attributes\":{\"color_mapper\":{\"id\":\"1556\"},\"dh\":{\"units\":\"data\",\"value\":16},\"dw\":{\"units\":\"data\",\"value\":13},\"global_alpha\":0.1,\"image\":{\"field\":\"image\"},\"x\":{\"value\":0},\"y\":{\"value\":0}},\"id\":\"1555\",\"type\":\"Image\"},{\"attributes\":{\"ticks\":[0.5,1.5,2.5,3.5,4.5,5.5,6.5,7.5,8.5,9.5,10.5,11.5,12.5]},\"id\":\"1560\",\"type\":\"FixedTicker\"},{\"attributes\":{},\"id\":\"1549\",\"type\":\"LinearScale\"},{\"attributes\":{\"palette\":[\"#000000\",\"#252525\",\"#525252\",\"#737373\",\"#969696\",\"#bdbdbd\",\"#d9d9d9\",\"#f0f0f0\",\"#ffffff\"]},\"id\":\"1554\",\"type\":\"LinearColorMapper\"},{\"attributes\":{},\"id\":\"1612\",\"type\":\"Selection\"},{\"attributes\":{},\"id\":\"1610\",\"type\":\"BasicTickFormatter\"}],\"root_ids\":[\"1542\"]},\"title\":\"Bokeh Application\",\"version\":\"2.2.2\"}};\n",
       "  var render_items = [{\"docid\":\"5075582a-1606-4f36-8b0c-026b80ae75b6\",\"root_ids\":[\"1542\"],\"roots\":{\"1542\":\"9d8876da-29a3-44f2-ab7b-d5776896633f\"}}];\n",
       "  root.Bokeh.embed.embed_items_notebook(docs_json, render_items);\n",
       "\n",
       "  }\n",
       "  if (root.Bokeh !== undefined) {\n",
       "    embed_document(root);\n",
       "  } else {\n",
       "    var attempts = 0;\n",
       "    var timer = setInterval(function(root) {\n",
       "      if (root.Bokeh !== undefined) {\n",
       "        clearInterval(timer);\n",
       "        embed_document(root);\n",
       "      } else {\n",
       "        attempts++;\n",
       "        if (attempts > 100) {\n",
       "          clearInterval(timer);\n",
       "          console.log(\"Bokeh: ERROR: Unable to run BokehJS code because BokehJS library is missing\");\n",
       "        }\n",
       "      }\n",
       "    }, 10, root)\n",
       "  }\n",
       "})(window);"
      ],
      "application/vnd.bokehjs_exec.v0+json": ""
     },
     "metadata": {
      "application/vnd.bokehjs_exec.v0+json": {
       "id": "1542"
      }
     },
     "output_type": "display_data"
    }
   ],
   "source": [
    "draw_attention(inp[2], trans[2], attention_probs[2])"
   ]
  },
  {
   "cell_type": "code",
   "execution_count": 53,
   "metadata": {},
   "outputs": [
    {
     "data": {
      "text/html": [
       "\n",
       "\n",
       "\n",
       "\n",
       "\n",
       "\n",
       "  <div class=\"bk-root\" id=\"7160a05e-30f4-4264-ac59-feb9de90778f\" data-root-id=\"1643\"></div>\n"
      ]
     },
     "metadata": {},
     "output_type": "display_data"
    },
    {
     "data": {
      "application/javascript": [
       "(function(root) {\n",
       "  function embed_document(root) {\n",
       "    \n",
       "  var docs_json = {\"ae33b692-500d-4999-a38c-2992e454c670\":{\"roots\":{\"references\":[{\"attributes\":{\"above\":[{\"id\":\"1660\"}],\"left\":[{\"id\":\"1663\"}],\"renderers\":[{\"id\":\"1658\"}],\"title\":{\"id\":\"1714\"},\"toolbar\":{\"id\":\"1652\"},\"x_range\":{\"id\":\"1644\"},\"x_scale\":{\"id\":\"1648\"},\"y_range\":{\"id\":\"1646\"},\"y_scale\":{\"id\":\"1650\"}},\"id\":\"1643\",\"subtype\":\"Figure\",\"type\":\"Plot\"},{\"attributes\":{},\"id\":\"1650\",\"type\":\"LinearScale\"},{\"attributes\":{\"data_source\":{\"id\":\"1653\"},\"glyph\":{\"id\":\"1654\"},\"hover_glyph\":null,\"muted_glyph\":null,\"nonselection_glyph\":{\"id\":\"1656\"},\"selection_glyph\":null,\"view\":{\"id\":\"1659\"}},\"id\":\"1658\",\"type\":\"GlyphRenderer\"},{\"attributes\":{\"color_mapper\":{\"id\":\"1655\"},\"dh\":{\"units\":\"data\",\"value\":34},\"dw\":{\"units\":\"data\",\"value\":32},\"image\":{\"field\":\"image\"},\"x\":{\"value\":0},\"y\":{\"value\":0}},\"id\":\"1654\",\"type\":\"Image\"},{\"attributes\":{\"source\":{\"id\":\"1653\"}},\"id\":\"1659\",\"type\":\"CDSView\"},{\"attributes\":{\"palette\":[\"#000000\",\"#252525\",\"#525252\",\"#737373\",\"#969696\",\"#bdbdbd\",\"#d9d9d9\",\"#f0f0f0\",\"#ffffff\"]},\"id\":\"1655\",\"type\":\"LinearColorMapper\"},{\"attributes\":{\"end\":34},\"id\":\"1646\",\"type\":\"Range1d\"},{\"attributes\":{},\"id\":\"1718\",\"type\":\"UnionRenderers\"},{\"attributes\":{\"active_drag\":\"auto\",\"active_inspect\":\"auto\",\"active_multi\":null,\"active_scroll\":\"auto\",\"active_tap\":\"auto\"},\"id\":\"1652\",\"type\":\"Toolbar\"},{\"attributes\":{},\"id\":\"1716\",\"type\":\"BasicTickFormatter\"},{\"attributes\":{\"text\":\"\"},\"id\":\"1714\",\"type\":\"Title\"},{\"attributes\":{\"end\":32},\"id\":\"1644\",\"type\":\"Range1d\"},{\"attributes\":{\"axis_label\":\"translation tokens\",\"formatter\":{\"id\":\"1716\"},\"major_label_overrides\":{\"0.5\":\"_EOS_\",\"1.5\":\".\",\"10.5\":\"the\",\"11.5\":\".\",\"12.5\":\"terrace\",\"13.5\":\"sun\",\"14.5\":\"and\",\"15.5\":\"garden\",\"16.5\":\"a\",\"17.5\":\",\",\"18.5\":\"pool\",\"19.5\":\"swimming\",\"2.5\":\"away\",\"20.5\":\"a\",\"21.5\":\"features\",\"22.5\":\"apartment\",\"23.5\":\"this\",\"24.5\":\",\",\"25.5\":\"terrace\",\"26.5\":\"sun\",\"27.5\":\"and\",\"28.5\":\"garden\",\"29.5\":\",\",\"3.5\":\"walk\",\"30.5\":\"pool\",\"31.5\":\"a\",\"32.5\":\"featuring\",\"33.5\":\"_BOS_\",\"4.5\":\"minute\",\"5.5\":\"-\",\"6.5\":\"5\",\"7.5\":\"a\",\"8.5\":\"is\",\"9.5\":\"beach\"},\"ticker\":{\"id\":\"1664\"}},\"id\":\"1663\",\"type\":\"LinearAxis\"},{\"attributes\":{\"color_mapper\":{\"id\":\"1657\"},\"dh\":{\"units\":\"data\",\"value\":34},\"dw\":{\"units\":\"data\",\"value\":32},\"global_alpha\":0.1,\"image\":{\"field\":\"image\"},\"x\":{\"value\":0},\"y\":{\"value\":0}},\"id\":\"1656\",\"type\":\"Image\"},{\"attributes\":{\"palette\":[\"#000000\",\"#252525\",\"#525252\",\"#737373\",\"#969696\",\"#bdbdbd\",\"#d9d9d9\",\"#f0f0f0\",\"#ffffff\"]},\"id\":\"1657\",\"type\":\"LinearColorMapper\"},{\"attributes\":{\"ticks\":[0.5,1.5,2.5,3.5,4.5,5.5,6.5,7.5,8.5,9.5,10.5,11.5,12.5,13.5,14.5,15.5,16.5,17.5,18.5,19.5,20.5,21.5,22.5,23.5,24.5,25.5,26.5,27.5,28.5,29.5,30.5,31.5]},\"id\":\"1661\",\"type\":\"FixedTicker\"},{\"attributes\":{\"data\":{\"image\":[{\"__ndarray__\":\"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\",\"dtype\":\"float32\",\"order\":\"little\",\"shape\":[34,32]}]},\"selected\":{\"id\":\"1719\"},\"selection_policy\":{\"id\":\"1718\"}},\"id\":\"1653\",\"type\":\"ColumnDataSource\"},{\"attributes\":{},\"id\":\"1719\",\"type\":\"Selection\"},{\"attributes\":{},\"id\":\"1648\",\"type\":\"LinearScale\"},{\"attributes\":{\"axis_label\":\"source tokens\",\"formatter\":{\"id\":\"1717\"},\"major_label_orientation\":45,\"major_label_overrides\":{\"0.5\":\"_BOS_\",\"1.5\":\"\\u0430\\u043f\\u0430\\u0440\\u0442\\u0430\\u043c\\u0435\\u043d\\u0442\\u044b\",\"10.5\":\"\\u0441\\u0430\\u0434\\u043e\\u043c\",\"11.5\":\",\",\"12.5\":\"\\u043a\\u043e\\u043d\\u0434\\u0438\\u0446\\u0438\\u043e\\u043d\\u0435\\u0440\\u043e\\u043c\",\"13.5\":\"\\u0438\",\"14.5\":\"\\u0442\\u0435\\u0440\\u0440\\u0430\\u0441\\u043e\\u0439\",\"15.5\":\"\\u0434\\u043b\\u044f\",\"16.5\":\"\\u0437\\u0430\\u0433\\u0430\\u0440\\u0430\",\"17.5\":\"\\u0440\\u0430\\u0441\\u043f\\u043e\\u043b\\u043e\\u0436\\u0435\\u043d\\u044b\",\"18.5\":\"\\u0432\",\"19.5\":\"5\",\"2.5\":\"\\u0432\",\"20.5\":\"\\u043c\\u0438\\u043d\\u0443\\u0442\\u0430\\u0445\",\"21.5\":\"\\u0445\\u043e\\u0434\\u044c\\u0431\\u044b\",\"22.5\":\"\\u043e\\u0442\",\"23.5\":\"\\u043f\\u043b\\u044f\\u0436\\u0430\",\"24.5\":\"\\u043d\\u0430\",\"25.5\":\"\\u043a\\u0443\\u0440\\u043e\\u0440\\u0442\\u0435\",\"26.5\":\"\\u043a\\u0430@@\",\"27.5\":\"\\u0431\\u043e\",\"28.5\":\"-\",\"29.5\":\"\\u0440\\u043e\\u0439\",\"3.5\":\"\\u043f\\u0435\\u043d\\u0442@@\",\"30.5\":\".\",\"31.5\":\"_EOS_\",\"4.5\":\"\\u0445\\u0430\\u0443\\u0441\\u0435\",\"5.5\":\"\\u0441\",\"6.5\":\"\\u043e\\u0431\\u0449\\u0438\\u043c\",\"7.5\":\"\\u043e\\u0442\\u043a\\u0440\\u044b\\u0442\\u044b\\u043c\",\"8.5\":\"\\u0431\\u0430\\u0441\\u0441\\u0435\\u0439\\u043d\\u043e\\u043c\",\"9.5\":\",\"},\"ticker\":{\"id\":\"1661\"}},\"id\":\"1660\",\"type\":\"LinearAxis\"},{\"attributes\":{\"ticks\":[0.5,1.5,2.5,3.5,4.5,5.5,6.5,7.5,8.5,9.5,10.5,11.5,12.5,13.5,14.5,15.5,16.5,17.5,18.5,19.5,20.5,21.5,22.5,23.5,24.5,25.5,26.5,27.5,28.5,29.5,30.5,31.5,32.5,33.5]},\"id\":\"1664\",\"type\":\"FixedTicker\"},{\"attributes\":{},\"id\":\"1717\",\"type\":\"BasicTickFormatter\"}],\"root_ids\":[\"1643\"]},\"title\":\"Bokeh Application\",\"version\":\"2.2.2\"}};\n",
       "  var render_items = [{\"docid\":\"ae33b692-500d-4999-a38c-2992e454c670\",\"root_ids\":[\"1643\"],\"roots\":{\"1643\":\"7160a05e-30f4-4264-ac59-feb9de90778f\"}}];\n",
       "  root.Bokeh.embed.embed_items_notebook(docs_json, render_items);\n",
       "\n",
       "  }\n",
       "  if (root.Bokeh !== undefined) {\n",
       "    embed_document(root);\n",
       "  } else {\n",
       "    var attempts = 0;\n",
       "    var timer = setInterval(function(root) {\n",
       "      if (root.Bokeh !== undefined) {\n",
       "        clearInterval(timer);\n",
       "        embed_document(root);\n",
       "      } else {\n",
       "        attempts++;\n",
       "        if (attempts > 100) {\n",
       "          clearInterval(timer);\n",
       "          console.log(\"Bokeh: ERROR: Unable to run BokehJS code because BokehJS library is missing\");\n",
       "        }\n",
       "      }\n",
       "    }, 10, root)\n",
       "  }\n",
       "})(window);"
      ],
      "application/vnd.bokehjs_exec.v0+json": ""
     },
     "metadata": {
      "application/vnd.bokehjs_exec.v0+json": {
       "id": "1643"
      }
     },
     "output_type": "display_data"
    }
   ],
   "source": [
    "draw_attention(inp[3], trans[3], attention_probs[3])"
   ]
  },
  {
   "cell_type": "code",
   "execution_count": 54,
   "metadata": {},
   "outputs": [
    {
     "data": {
      "text/html": [
       "\n",
       "\n",
       "\n",
       "\n",
       "\n",
       "\n",
       "  <div class=\"bk-root\" id=\"b92312c0-07c7-459e-8fd9-3ff777345dda\" data-root-id=\"1750\"></div>\n"
      ]
     },
     "metadata": {},
     "output_type": "display_data"
    },
    {
     "data": {
      "application/javascript": [
       "(function(root) {\n",
       "  function embed_document(root) {\n",
       "    \n",
       "  var docs_json = {\"bc9bae21-5a2a-4f05-a7e0-d2545e486eed\":{\"roots\":{\"references\":[{\"attributes\":{\"above\":[{\"id\":\"1767\"}],\"left\":[{\"id\":\"1770\"}],\"renderers\":[{\"id\":\"1765\"}],\"title\":{\"id\":\"1827\"},\"toolbar\":{\"id\":\"1759\"},\"x_range\":{\"id\":\"1751\"},\"x_scale\":{\"id\":\"1755\"},\"y_range\":{\"id\":\"1753\"},\"y_scale\":{\"id\":\"1757\"}},\"id\":\"1750\",\"subtype\":\"Figure\",\"type\":\"Plot\"},{\"attributes\":{\"axis_label\":\"translation tokens\",\"formatter\":{\"id\":\"1829\"},\"major_label_overrides\":{\"0.5\":\"_EOS_\",\"1.5\":\".\",\"10.5\":\"rome\",\"11.5\":\"in\",\"12.5\":\"accommodation\",\"13.5\":\"offers\",\"14.5\":\"d\",\"15.5\":\"ren@@\",\"16.5\":\"z@@\",\"17.5\":\"mo@@\",\"18.5\":\"apartment\",\"19.5\":\",\",\"2.5\":\"opera\",\"20.5\":\"real\",\"21.5\":\"campo\",\"22.5\":\"in\",\"23.5\":\"located\",\"24.5\":\"_BOS_\",\"3.5\":\"of\",\"4.5\":\"theatre\",\"5.5\":\"the\",\"6.5\":\"from\",\"7.5\":\"metres\",\"8.5\":\"200\",\"9.5\":\",\"},\"ticker\":{\"id\":\"1771\"}},\"id\":\"1770\",\"type\":\"LinearAxis\"},{\"attributes\":{\"color_mapper\":{\"id\":\"1764\"},\"dh\":{\"units\":\"data\",\"value\":25},\"dw\":{\"units\":\"data\",\"value\":23},\"global_alpha\":0.1,\"image\":{\"field\":\"image\"},\"x\":{\"value\":0},\"y\":{\"value\":0}},\"id\":\"1763\",\"type\":\"Image\"},{\"attributes\":{\"end\":23},\"id\":\"1751\",\"type\":\"Range1d\"},{\"attributes\":{\"data_source\":{\"id\":\"1760\"},\"glyph\":{\"id\":\"1761\"},\"hover_glyph\":null,\"muted_glyph\":null,\"nonselection_glyph\":{\"id\":\"1763\"},\"selection_glyph\":null,\"view\":{\"id\":\"1766\"}},\"id\":\"1765\",\"type\":\"GlyphRenderer\"},{\"attributes\":{},\"id\":\"1829\",\"type\":\"BasicTickFormatter\"},{\"attributes\":{},\"id\":\"1755\",\"type\":\"LinearScale\"},{\"attributes\":{},\"id\":\"1832\",\"type\":\"Selection\"},{\"attributes\":{\"ticks\":[0.5,1.5,2.5,3.5,4.5,5.5,6.5,7.5,8.5,9.5,10.5,11.5,12.5,13.5,14.5,15.5,16.5,17.5,18.5,19.5,20.5,21.5,22.5]},\"id\":\"1768\",\"type\":\"FixedTicker\"},{\"attributes\":{\"palette\":[\"#000000\",\"#252525\",\"#525252\",\"#737373\",\"#969696\",\"#bdbdbd\",\"#d9d9d9\",\"#f0f0f0\",\"#ffffff\"]},\"id\":\"1764\",\"type\":\"LinearColorMapper\"},{\"attributes\":{\"text\":\"\"},\"id\":\"1827\",\"type\":\"Title\"},{\"attributes\":{\"axis_label\":\"source tokens\",\"formatter\":{\"id\":\"1830\"},\"major_label_orientation\":45,\"major_label_overrides\":{\"0.5\":\"_BOS_\",\"1.5\":\"\\u0430\\u043f\\u0430\\u0440\\u0442\\u0430\\u043c\\u0435\\u043d\\u0442\\u044b\",\"10.5\":\"square\",\"11.5\":\"\\u043d\\u0430\\u0445\\u043e\\u0434\\u044f\\u0442\\u0441\\u044f\",\"12.5\":\"\\u0432\",\"13.5\":\"\\u043c\\u043e\\u0441\\u043a\\u0432\\u0435\",\"14.5\":\",\",\"15.5\":\"\\u0432\",\"16.5\":\"200\",\"17.5\":\"\\u043c\\u0435\\u0442\\u0440\\u0430\\u0445\",\"18.5\":\"\\u043e\\u0442\",\"19.5\":\"\\u0431\\u043e\\u043b\\u044c\\u0448\\u043e\\u0433\\u043e\",\"2.5\":\"mo@@\",\"20.5\":\"\\u0442\\u0435\\u0430\\u0442\\u0440\\u0430\",\"21.5\":\".\",\"22.5\":\"_EOS_\",\"3.5\":\"s@@\",\"4.5\":\"co@@\",\"5.5\":\"w\",\"6.5\":\"point\",\"7.5\":\"-\",\"8.5\":\"loft\",\"9.5\":\"red\"},\"ticker\":{\"id\":\"1768\"}},\"id\":\"1767\",\"type\":\"LinearAxis\"},{\"attributes\":{\"ticks\":[0.5,1.5,2.5,3.5,4.5,5.5,6.5,7.5,8.5,9.5,10.5,11.5,12.5,13.5,14.5,15.5,16.5,17.5,18.5,19.5,20.5,21.5,22.5,23.5,24.5]},\"id\":\"1771\",\"type\":\"FixedTicker\"},{\"attributes\":{},\"id\":\"1830\",\"type\":\"BasicTickFormatter\"},{\"attributes\":{},\"id\":\"1757\",\"type\":\"LinearScale\"},{\"attributes\":{},\"id\":\"1831\",\"type\":\"UnionRenderers\"},{\"attributes\":{\"active_drag\":\"auto\",\"active_inspect\":\"auto\",\"active_multi\":null,\"active_scroll\":\"auto\",\"active_tap\":\"auto\"},\"id\":\"1759\",\"type\":\"Toolbar\"},{\"attributes\":{\"color_mapper\":{\"id\":\"1762\"},\"dh\":{\"units\":\"data\",\"value\":25},\"dw\":{\"units\":\"data\",\"value\":23},\"image\":{\"field\":\"image\"},\"x\":{\"value\":0},\"y\":{\"value\":0}},\"id\":\"1761\",\"type\":\"Image\"},{\"attributes\":{\"source\":{\"id\":\"1760\"}},\"id\":\"1766\",\"type\":\"CDSView\"},{\"attributes\":{\"data\":{\"image\":[{\"__ndarray__\":\"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\",\"dtype\":\"float32\",\"order\":\"little\",\"shape\":[25,23]}]},\"selected\":{\"id\":\"1832\"},\"selection_policy\":{\"id\":\"1831\"}},\"id\":\"1760\",\"type\":\"ColumnDataSource\"},{\"attributes\":{\"palette\":[\"#000000\",\"#252525\",\"#525252\",\"#737373\",\"#969696\",\"#bdbdbd\",\"#d9d9d9\",\"#f0f0f0\",\"#ffffff\"]},\"id\":\"1762\",\"type\":\"LinearColorMapper\"},{\"attributes\":{\"end\":25},\"id\":\"1753\",\"type\":\"Range1d\"}],\"root_ids\":[\"1750\"]},\"title\":\"Bokeh Application\",\"version\":\"2.2.2\"}};\n",
       "  var render_items = [{\"docid\":\"bc9bae21-5a2a-4f05-a7e0-d2545e486eed\",\"root_ids\":[\"1750\"],\"roots\":{\"1750\":\"b92312c0-07c7-459e-8fd9-3ff777345dda\"}}];\n",
       "  root.Bokeh.embed.embed_items_notebook(docs_json, render_items);\n",
       "\n",
       "  }\n",
       "  if (root.Bokeh !== undefined) {\n",
       "    embed_document(root);\n",
       "  } else {\n",
       "    var attempts = 0;\n",
       "    var timer = setInterval(function(root) {\n",
       "      if (root.Bokeh !== undefined) {\n",
       "        clearInterval(timer);\n",
       "        embed_document(root);\n",
       "      } else {\n",
       "        attempts++;\n",
       "        if (attempts > 100) {\n",
       "          clearInterval(timer);\n",
       "          console.log(\"Bokeh: ERROR: Unable to run BokehJS code because BokehJS library is missing\");\n",
       "        }\n",
       "      }\n",
       "    }, 10, root)\n",
       "  }\n",
       "})(window);"
      ],
      "application/vnd.bokehjs_exec.v0+json": ""
     },
     "metadata": {
      "application/vnd.bokehjs_exec.v0+json": {
       "id": "1750"
      }
     },
     "output_type": "display_data"
    }
   ],
   "source": [
    "draw_attention(inp[4], trans[4], attention_probs[4])"
   ]
  }
 ],
 "metadata": {
  "accelerator": "GPU",
  "colab": {
   "collapsed_sections": [
    "edk_oVg0lrtW"
   ],
   "name": "practice.ipynb",
   "provenance": []
  },
  "kernelspec": {
   "display_name": "Python 3",
   "language": "python",
   "name": "python3"
  },
  "language_info": {
   "codemirror_mode": {
    "name": "ipython",
    "version": 3
   },
   "file_extension": ".py",
   "mimetype": "text/x-python",
   "name": "python",
   "nbconvert_exporter": "python",
   "pygments_lexer": "ipython3",
   "version": "3.6.13"
  }
 },
 "nbformat": 4,
 "nbformat_minor": 1
}
